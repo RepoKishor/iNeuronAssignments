{
 "cells": [
  {
   "cell_type": "markdown",
   "id": "b437d83d-bd2f-4770-b934-5c0c2c370597",
   "metadata": {},
   "source": [
    "1. What advantages do Excel spreadsheets have over CSV spreadsheets?"
   ]
  },
  {
   "cell_type": "code",
   "execution_count": null,
   "id": "967b9325-c809-4387-8e8e-36a4a40bb4f4",
   "metadata": {},
   "outputs": [],
   "source": [
    "We can perform functions, formulas in Excel but not in CSV.\n",
    "Easy to handle large data sets when compared to CSV.\n",
    "We can link data from external sources easily in Excel."
   ]
  },
  {
   "cell_type": "markdown",
   "id": "cedcaaeb-20e2-44a7-a129-7681996c85c0",
   "metadata": {},
   "source": [
    "2.What do you pass to csv.reader() and csv.writer() to create reader and writer objects?"
   ]
  },
  {
   "cell_type": "code",
   "execution_count": null,
   "id": "b61965c8-1740-4547-8f4e-677ffd4364e1",
   "metadata": {},
   "outputs": [],
   "source": [
    "we pass Reader and Writer object."
   ]
  },
  {
   "cell_type": "markdown",
   "id": "7b5dd115-fa15-4246-b477-9ac9f3ca4ef6",
   "metadata": {},
   "source": [
    "3.What modes do File objects for reader and writer objects need to be opened in?"
   ]
  },
  {
   "cell_type": "code",
   "execution_count": null,
   "id": "608d44c8-eb42-4a5c-ba3b-bf2257e9bda8",
   "metadata": {},
   "outputs": [],
   "source": [
    "'r' mode for reader and 'w' mode for writer objects"
   ]
  },
  {
   "cell_type": "markdown",
   "id": "a284b0a4-7a6e-4275-aaf7-c8664b388d1d",
   "metadata": {},
   "source": [
    "4. What method takes a list argument and writes it to a CSV file?"
   ]
  },
  {
   "cell_type": "code",
   "execution_count": null,
   "id": "d3e89265-f274-40bf-8107-818171d4b15f",
   "metadata": {},
   "outputs": [],
   "source": [
    "csv_writer.writerow(fields)"
   ]
  },
  {
   "cell_type": "markdown",
   "id": "8f6fa577-3509-400e-b4f3-bc029a2a70a2",
   "metadata": {},
   "source": [
    "5. What do the keyword arguments delimiter and line terminator do?"
   ]
  },
  {
   "cell_type": "code",
   "execution_count": null,
   "id": "f0b9fc81-95dc-4e4e-aecf-23a7defadbd9",
   "metadata": {},
   "outputs": [],
   "source": [
    "delimiter is used to separate each field. \n",
    "line terminator specifies the character between two lines."
   ]
  },
  {
   "cell_type": "markdown",
   "id": "3d9827ba-c0e4-4cef-93ab-9430c1250047",
   "metadata": {},
   "source": [
    "6. What function takes a string of JSON data and returns a Python data structure?"
   ]
  },
  {
   "cell_type": "code",
   "execution_count": null,
   "id": "3ab837a8-312d-4c4d-b6e2-58f101c4152b",
   "metadata": {},
   "outputs": [],
   "source": [
    "json.loads(string)"
   ]
  },
  {
   "cell_type": "markdown",
   "id": "1c7b0841-b30e-403d-bd85-beff5d0a0bfa",
   "metadata": {},
   "source": [
    "7. What function takes a Python data structure and returns a string of JSON data?"
   ]
  },
  {
   "cell_type": "code",
   "execution_count": null,
   "id": "28f0bec5-2536-46f7-8081-a6aac1e21fd2",
   "metadata": {},
   "outputs": [],
   "source": [
    "json.dumps(dict)"
   ]
  },
  {
   "cell_type": "code",
   "execution_count": null,
   "id": "fecf9362-d7f6-4314-8bd7-a2ad5aa39465",
   "metadata": {},
   "outputs": [],
   "source": []
  }
 ],
 "metadata": {
  "kernelspec": {
   "display_name": "Python 3 (ipykernel)",
   "language": "python",
   "name": "python3"
  },
  "language_info": {
   "codemirror_mode": {
    "name": "ipython",
    "version": 3
   },
   "file_extension": ".py",
   "mimetype": "text/x-python",
   "name": "python",
   "nbconvert_exporter": "python",
   "pygments_lexer": "ipython3",
   "version": "3.10.9"
  }
 },
 "nbformat": 4,
 "nbformat_minor": 5
}
