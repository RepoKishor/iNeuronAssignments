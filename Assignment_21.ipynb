{
 "cells": [
  {
   "cell_type": "markdown",
   "id": "be447a0d-fa9c-4295-b01f-859156e8b238",
   "metadata": {},
   "source": [
    "1. Add the current date to the text file today.txt as a string."
   ]
  },
  {
   "cell_type": "code",
   "execution_count": 1,
   "id": "ac7f1005-7948-4eec-97bc-cede39d12d79",
   "metadata": {},
   "outputs": [
    {
     "data": {
      "text/plain": [
       "'2023-05-13'"
      ]
     },
     "execution_count": 1,
     "metadata": {},
     "output_type": "execute_result"
    }
   ],
   "source": [
    "import datetime\n",
    "from datetime import date\n",
    "now = date.today()\n",
    "currentDate = now.isoformat()\n",
    "currentDate"
   ]
  },
  {
   "cell_type": "code",
   "execution_count": 2,
   "id": "d4f92bc6-f93d-4d91-a6fd-eab52e44dea7",
   "metadata": {},
   "outputs": [],
   "source": [
    "with open('today.txt','w') as todayfile:\n",
    "    todayfile.write(currentDate)"
   ]
  },
  {
   "cell_type": "markdown",
   "id": "eab7465a-4a04-4b87-8441-7c7ae6a24292",
   "metadata": {},
   "source": [
    "2. Read the text file today.txt into the string today_string"
   ]
  },
  {
   "cell_type": "code",
   "execution_count": 3,
   "id": "10405b81-a725-4c35-9fc6-802a8c66119e",
   "metadata": {},
   "outputs": [
    {
     "name": "stdout",
     "output_type": "stream",
     "text": [
      "2023-05-13\n"
     ]
    }
   ],
   "source": [
    "with open('today.txt','r') as file:\n",
    "    today_string = file.read()\n",
    "print(today_string)"
   ]
  },
  {
   "cell_type": "markdown",
   "id": "66d1aced-841e-4751-942e-f9fe2e830862",
   "metadata": {},
   "source": [
    "3. Parse the date from today_string."
   ]
  },
  {
   "cell_type": "code",
   "execution_count": 6,
   "id": "b81273db-80f2-4799-a7bd-a1c7765428b7",
   "metadata": {},
   "outputs": [
    {
     "data": {
      "text/plain": [
       "datetime.datetime(2023, 5, 13, 0, 0)"
      ]
     },
     "execution_count": 6,
     "metadata": {},
     "output_type": "execute_result"
    }
   ],
   "source": [
    "from datetime import datetime\n",
    "format = '%Y-%m-%d'\n",
    "datetime.strptime(today_string,format)"
   ]
  },
  {
   "cell_type": "markdown",
   "id": "42b4f859-d868-42bc-9b40-757e4122e3d9",
   "metadata": {},
   "source": [
    "4. List the files in your current directory"
   ]
  },
  {
   "cell_type": "code",
   "execution_count": 8,
   "id": "17ae5ace-088b-4257-8c5d-0e9a47a1d011",
   "metadata": {},
   "outputs": [
    {
     "data": {
      "text/plain": [
       "['.ipynb_checkpoints',\n",
       " '1. EDA Used Car Prediction.ipynb',\n",
       " '100probs_ImpOnly-checkpoint.ipynb',\n",
       " '100probs_ImpOnly.ipynb',\n",
       " '14thMay.ipynb',\n",
       " '18.3.Plotly.ipynb',\n",
       " '19.2.MySQL',\n",
       " '19.2.MySQL.7z',\n",
       " '19.2.MySQL.ipynb',\n",
       " '21stMayListTupleDictSet.ipynb',\n",
       " '22ndMayLoops.ipynb',\n",
       " '24thJuneRevision.ipynb',\n",
       " '28thMay22Exercise.html',\n",
       " '28thMay22Exercise.ipynb',\n",
       " '29thMay.ipynb',\n",
       " '29thMayExercise.html',\n",
       " '29thMayExercise.ipynb',\n",
       " '30thJulyTask.ipynb',\n",
       " '30thOctAssignment_Linear Regression.ipynb',\n",
       " '30thOctLogisticRegressionAssignment.ipynb',\n",
       " '31stJuly_Task-2.ipynb',\n",
       " '31stJuly_Task1.ipynb',\n",
       " '5th June Task.ipynb',\n",
       " '5thJuneTask.ipynb',\n",
       " '5thNov_Decision Tree.ipynb',\n",
       " 'adult.csv',\n",
       " 'Agent Login Report.csv',\n",
       " 'Agent Performance Report.csv',\n",
       " 'Alexnet.ipynb',\n",
       " 'Algerian_forest_fires_dataset.csv',\n",
       " 'Algerian_forest_fires_dataset_UPDATE - Copy.csv',\n",
       " 'all_algo_fsdsmay.ipynb',\n",
       " 'Assignment_10.ipynb',\n",
       " 'Assignment_12.ipynb',\n",
       " 'Assignment_13.ipynb',\n",
       " 'Assignment_14.ipynb',\n",
       " 'Assignment_15.ipynb',\n",
       " 'Assignment_16.ipynb',\n",
       " 'Assignment_17.ipynb',\n",
       " 'Assignment_18.ipynb',\n",
       " 'Assignment_19.ipynb',\n",
       " 'Assignment_20.ipynb',\n",
       " 'Assignment_21.ipynb',\n",
       " 'Assignment_9.ipynb',\n",
       " 'Assignment_Linear_Regression.ipynb',\n",
       " 'Assignment_LogisticRegression_16thOct.ipynb',\n",
       " 'Basic CNN on MNIST.ipynb',\n",
       " 'BasicPython_14th_15thMay.ipynb',\n",
       " 'books.db',\n",
       " 'bookTitles.csv',\n",
       " 'bookTitles.db',\n",
       " 'carbon_nanotubes.csv',\n",
       " 'class and object.ipynb',\n",
       " 'ClassesandObjects.ipynb',\n",
       " 'CNN Architectures',\n",
       " 'cnn.ipynb',\n",
       " 'creditCardFraudEDA.ipynb',\n",
       " 'Custom_Training_Detectron2.ipynb',\n",
       " 'Data_cleaning.ipynb',\n",
       " 'Data_Train.xlsx',\n",
       " 'Decision tree',\n",
       " 'Decision tree practical .ipynb',\n",
       " 'Decision tree practical with random forest .ipynb',\n",
       " 'Decision_tree.ipynb',\n",
       " 'Decision_tree_classifier.ipynb',\n",
       " 'decision_tree_fsdsmay (1).ipynb',\n",
       " 'decision_tree_fsdsmay (2).ipynb',\n",
       " 'decision_tree_fsdsmay.ipynb',\n",
       " 'decistion_tree_classifier.png',\n",
       " 'Detectron2_Setup_Colab.ipynb',\n",
       " 'diabetes.csv',\n",
       " 'Downloads',\n",
       " 'DT discussion not yet completed .ipynb',\n",
       " 'EDA _Algerian_forest_fires.ipynb',\n",
       " 'EDA_25thSept.ipynb',\n",
       " 'EDA_6thOct_Practice.ipynb',\n",
       " 'EDA_Pandas_profiling.ipynb',\n",
       " 'fileoperations.html',\n",
       " 'FirstSQL.ipynb',\n",
       " 'FitBit data.csv',\n",
       " 'for loop.ipynb',\n",
       " 'fsds-EDA.ipynb',\n",
       " 'fsds_may_ann.ipynb',\n",
       " 'fsds_may_mnist.ipynb',\n",
       " 'Github.txt',\n",
       " 'googleplaystore.csv',\n",
       " 'google_cleaned.csv',\n",
       " 'Graph .ipynb',\n",
       " 'Gridsearchcv.ipynb',\n",
       " 'Hypothesis_Testing.ipynb',\n",
       " 'ImageToTextWebApp.ipynb',\n",
       " 'ITM.png',\n",
       " 'KNN,SVC,Stacking .ipynb',\n",
       " 'LeNet-5.ipynb',\n",
       " 'Linear Regression Practicals.ipynb',\n",
       " 'list Comprehension.ipynb',\n",
       " 'ListManipulationClass.ipynb',\n",
       " 'Logistic Regression.ipynb',\n",
       " 'ML',\n",
       " 'modelForPrediction.sav',\n",
       " 'modified_ITM.png',\n",
       " 'MyException.ipynb',\n",
       " 'myLogger.ipynb',\n",
       " 'Numpy and basic of graph.ipynb',\n",
       " 'oops 2.ipynb',\n",
       " 'oops 2__.ipynb',\n",
       " 'order.xlsx',\n",
       " 'pandas data manupulations.ipynb',\n",
       " 'Pandas session 1 (1).ipynb',\n",
       " 'Pandas session 1.ipynb',\n",
       " 'pandas.ipynb',\n",
       " 'Pandas_Practice.ipynb',\n",
       " 'pca.ipynb',\n",
       " 'players_data.csv',\n",
       " 'Plotly and Cufflinks Crash Course.ipynb',\n",
       " 'Programming_Assignment_1.ipynb',\n",
       " 'Programming_Assignment_10.ipynb',\n",
       " 'Programming_Assignment_2.ipynb',\n",
       " 'Programming_Assignment_3.ipynb',\n",
       " 'Programming_Assignment_4.ipynb',\n",
       " 'Programming_Assignment_5.ipynb',\n",
       " 'Programming_Assignment_6.ipynb',\n",
       " 'Programming_assignment_7.ipynb',\n",
       " 'Programming_Assignment_8.ipynb',\n",
       " 'python_MongoDB.ipynb',\n",
       " 'Python_SQL.ipynb',\n",
       " 'Review scrapper  (1).ipynb',\n",
       " 'Revision and task solving till 29th.ipynb',\n",
       " 'Revision_Programs.ipynb',\n",
       " 'ROCAUC.ipynb',\n",
       " 'sandardScalar.sav',\n",
       " 'Scania_APS_failure_prediction.ipynb',\n",
       " 'SpamClassifierUsingNaiveBayes.ipynb',\n",
       " 'StringOperationClass.ipynb',\n",
       " 'Superstore_USA.xlsx',\n",
       " 'svc_implementation.ipynb',\n",
       " 'SVM Kernels Implementation.ipynb',\n",
       " 'sweetviz_report.html',\n",
       " 'test.txt',\n",
       " 'TESTFire.csv',\n",
       " 'Time Series Forecasting - ARIMA, SARIMA and Auto-ARIMA.ipynb',\n",
       " 'tkinter_API_page.ipynb',\n",
       " 'today.txt',\n",
       " 'Travel.csv',\n",
       " 'TSLA.CSV',\n",
       " 'Untitled.ipynb',\n",
       " 'Untitled1.ipynb',\n",
       " 'Untitled10.ipynb',\n",
       " 'Untitled2.ipynb',\n",
       " 'Untitled3.ipynb',\n",
       " 'Untitled4.ipynb',\n",
       " 'Untitled5.ipynb',\n",
       " 'Untitled6.html',\n",
       " 'Untitled6.ipynb',\n",
       " 'Untitled7.ipynb',\n",
       " 'Untitled8.ipynb',\n",
       " 'Untitled9.ipynb',\n",
       " 'Visadataset.csv',\n",
       " 'WhileandFunction.ipynb',\n",
       " 'yolov5_traffic_signal_detection',\n",
       " 'zoo.py',\n",
       " '__pycache__']"
      ]
     },
     "execution_count": 8,
     "metadata": {},
     "output_type": "execute_result"
    }
   ],
   "source": [
    "import os\n",
    "os.listdir('.')"
   ]
  },
  {
   "cell_type": "markdown",
   "id": "d2ac1beb-dd35-4ae3-881c-305539f7e3a4",
   "metadata": {},
   "source": [
    "5. Create a list of all of the files in your parent directory (minimum five files should be available)."
   ]
  },
  {
   "cell_type": "code",
   "execution_count": 9,
   "id": "9f7d4b23-ecaf-4289-9bf7-75da2a0107c5",
   "metadata": {},
   "outputs": [
    {
     "data": {
      "text/plain": [
       "['.bash_history',\n",
       " '.bash_profile',\n",
       " '.conda',\n",
       " '.condarc',\n",
       " '.continuum',\n",
       " '.cufflinks',\n",
       " '.gitconfig',\n",
       " '.ipynb_checkpoints',\n",
       " '.ipython',\n",
       " '.jupyter',\n",
       " '.labelImgSettings.pkl',\n",
       " '.matplotlib',\n",
       " '.ms-ad',\n",
       " '.openjfx',\n",
       " '.spyder-py3',\n",
       " '.vscode',\n",
       " '.vscode-cli',\n",
       " '01-Python-Crash-Course',\n",
       " '02-Numpy',\n",
       " '03-Pandas',\n",
       " '04-Matplotlib',\n",
       " '05-Seaborn',\n",
       " '06-Capstone-Project',\n",
       " '07-Overview-of-Machine-Learning',\n",
       " '08-Linear-Regression-Models',\n",
       " '09-Feature-Engineering',\n",
       " '10-Cross-Val-and-LinReg-Project',\n",
       " '11-Logistic-Regression-Models',\n",
       " '12-K-Nearest-Neighbors',\n",
       " '13-Support-Vector-Machines',\n",
       " '14-Decision-Trees',\n",
       " '15-Random-Forests',\n",
       " '16-Boosted-Trees',\n",
       " '17-Supervised-Learning-Capstone-Project',\n",
       " '18-Naive-Bayes-and-NLP',\n",
       " '19-Unsupervised-Learning-Overview',\n",
       " '19.2.MySQL',\n",
       " '20-Kmeans-Clustering',\n",
       " '21-Hierarchal-Clustering',\n",
       " '21-Hierarchical-Clustering',\n",
       " '22-DBSCAN',\n",
       " '23-PCA-Principal-Component-Analysis',\n",
       " '24-Model-Deployment',\n",
       " '3D Objects',\n",
       " 'anaconda3',\n",
       " 'AppData',\n",
       " 'Application Data',\n",
       " 'Contacts',\n",
       " 'Cookies',\n",
       " 'DATA',\n",
       " 'Desktop',\n",
       " 'Detectron2_detection',\n",
       " 'Documents',\n",
       " 'Downloads',\n",
       " 'E2ESignLanguageDetection',\n",
       " 'Favorites',\n",
       " 'iNeuron',\n",
       " 'install.log',\n",
       " 'IntelGraphicsProfiles',\n",
       " 'Links',\n",
       " 'Local Settings',\n",
       " 'Microsoft',\n",
       " 'MicrosoftEdgeBackups',\n",
       " 'Music',\n",
       " 'My Documents',\n",
       " 'NetHood',\n",
       " 'NTUSER.DAT',\n",
       " 'ntuser.dat.LOG1',\n",
       " 'ntuser.dat.LOG2',\n",
       " 'NTUSER.DAT{53b39e88-18c4-11ea-a811-000d3aa4692b}.TM.blf',\n",
       " 'NTUSER.DAT{53b39e88-18c4-11ea-a811-000d3aa4692b}.TMContainer00000000000000000001.regtrans-ms',\n",
       " 'NTUSER.DAT{53b39e88-18c4-11ea-a811-000d3aa4692b}.TMContainer00000000000000000002.regtrans-ms',\n",
       " 'ntuser.ini',\n",
       " 'OneDrive',\n",
       " 'Pandas',\n",
       " 'Pictures',\n",
       " 'Postman',\n",
       " 'Practice',\n",
       " 'practice_python.ipynb',\n",
       " 'PrintHood',\n",
       " 'Recent',\n",
       " 'Saved Games',\n",
       " 'scikit_learn_data',\n",
       " 'seaborn-data',\n",
       " 'Searches',\n",
       " 'SendTo',\n",
       " 'Start Menu',\n",
       " 'Templates',\n",
       " 'Videos']"
      ]
     },
     "execution_count": 9,
     "metadata": {},
     "output_type": "execute_result"
    }
   ],
   "source": [
    "os.listdir('..')"
   ]
  },
  {
   "cell_type": "markdown",
   "id": "b5bbd433-caf2-4e99-9207-d774f1953077",
   "metadata": {},
   "source": [
    "6. Use multiprocessing to create three separate processes. Make each one wait a random number of seconds between one and five, print the current time, and then exit."
   ]
  },
  {
   "cell_type": "code",
   "execution_count": 12,
   "id": "db181717-7da2-42a1-afa6-a2b1c99a5792",
   "metadata": {},
   "outputs": [],
   "source": [
    "# No idea\n",
    "import multiprocessing\n",
    "import random"
   ]
  },
  {
   "cell_type": "code",
   "execution_count": 14,
   "id": "abb425a0-a180-4755-b239-4075387800a7",
   "metadata": {},
   "outputs": [],
   "source": [
    "import multiprocessing\n",
    "import random\n",
    "from datetime import datetime\n",
    "from time import sleep\n",
    "\n",
    "def createProcess(wait_time):\n",
    "    sleep(wait_time)\n",
    "    now = datetime.now()\n",
    "    current_time = now.strftime(\"%H:%M:%S\")\n",
    "    print(\"waiting\",wait_time,\" seconds\",\"Current time is:\", current_time, datetime.utcnow() )\n",
    "\n",
    "if __name__ == '__main__':\n",
    "    for i in range(3):\n",
    "        wait_sec= random.random()\n",
    "        process = multiprocessing.Process(target=createProcess, args=(wait_sec,))\n",
    "        process.start()"
   ]
  },
  {
   "cell_type": "code",
   "execution_count": 20,
   "id": "402869ed-c99d-4d6e-8579-4104a8dc608a",
   "metadata": {},
   "outputs": [
    {
     "name": "stdout",
     "output_type": "stream",
     "text": [
      "waiting 0.0315382368225563  seconds Current time is: 16:05:16 2023-05-13 10:35:16.368674\n",
      "waiting 0.2896132649746245  seconds Current time is: 16:05:16 2023-05-13 10:35:16.585553\n",
      "waiting 0.9367403041630833  seconds Current time is: 16:05:17 2023-05-13 10:35:17.272621\n"
     ]
    }
   ],
   "source": [
    "!python multiProcess.py"
   ]
  },
  {
   "cell_type": "markdown",
   "id": "7f8ff2d8-7aff-43a8-b84a-a96ee1d657b8",
   "metadata": {},
   "source": [
    "7. Create a date object of your day of birth."
   ]
  },
  {
   "cell_type": "code",
   "execution_count": 28,
   "id": "801ed439-5c34-4902-bfb7-0f44a802e3e2",
   "metadata": {},
   "outputs": [
    {
     "name": "stdout",
     "output_type": "stream",
     "text": [
      "1975-06-22\n"
     ]
    }
   ],
   "source": [
    "dob=date(1975,6,22)\n",
    "print(dob)"
   ]
  },
  {
   "cell_type": "markdown",
   "id": "2cef80d0-4496-4a8d-933c-026e2210a262",
   "metadata": {},
   "source": [
    "8. What day of the week was your day of birth?"
   ]
  },
  {
   "cell_type": "code",
   "execution_count": 29,
   "id": "d54c44b7-30ec-412b-b00f-6ce3caa8db81",
   "metadata": {},
   "outputs": [
    {
     "data": {
      "text/plain": [
       "6"
      ]
     },
     "execution_count": 29,
     "metadata": {},
     "output_type": "execute_result"
    }
   ],
   "source": [
    "dob.weekday()"
   ]
  },
  {
   "cell_type": "markdown",
   "id": "4d0febae-dbad-44ca-997f-1c4cad61760e",
   "metadata": {},
   "source": [
    "9. When will you be (or when were you) 10,000 days old?"
   ]
  },
  {
   "cell_type": "code",
   "execution_count": 30,
   "id": "72af9c71-21d3-4ac4-aaf4-543036cd2263",
   "metadata": {},
   "outputs": [
    {
     "data": {
      "text/plain": [
       "datetime.date(2002, 11, 7)"
      ]
     },
     "execution_count": 30,
     "metadata": {},
     "output_type": "execute_result"
    }
   ],
   "source": [
    "from datetime import timedelta\n",
    "tenthoudands = dob + timedelta(days=10000)\n",
    "tenthoudands"
   ]
  },
  {
   "cell_type": "code",
   "execution_count": null,
   "id": "193b7894-59cd-4fac-b56a-5f25421eb687",
   "metadata": {},
   "outputs": [],
   "source": []
  }
 ],
 "metadata": {
  "kernelspec": {
   "display_name": "Python 3 (ipykernel)",
   "language": "python",
   "name": "python3"
  },
  "language_info": {
   "codemirror_mode": {
    "name": "ipython",
    "version": 3
   },
   "file_extension": ".py",
   "mimetype": "text/x-python",
   "name": "python",
   "nbconvert_exporter": "python",
   "pygments_lexer": "ipython3",
   "version": "3.10.9"
  }
 },
 "nbformat": 4,
 "nbformat_minor": 5
}
