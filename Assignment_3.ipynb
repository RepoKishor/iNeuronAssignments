{
 "cells": [
  {
   "cell_type": "code",
   "execution_count": null,
   "id": "337a0d73",
   "metadata": {},
   "outputs": [],
   "source": [
    "'''\n",
    "1. Why are functions advantageous to have in your programs?\n",
    "Ans: code reusability, less code cluttering, improved clarity of the code\n",
    "\n",
    "'''"
   ]
  },
  {
   "cell_type": "code",
   "execution_count": null,
   "id": "a988b479",
   "metadata": {},
   "outputs": [],
   "source": [
    "'''\n",
    "2. When does the code in a function run: when it's specified or when it's called?\n",
    "    When it is called\n",
    "\n",
    "'''"
   ]
  },
  {
   "cell_type": "code",
   "execution_count": null,
   "id": "0b2eed86",
   "metadata": {},
   "outputs": [],
   "source": [
    "'''3. What statement creates a function?\n",
    "Ans: def functionName(argument…): statement \n",
    "'''"
   ]
  },
  {
   "cell_type": "code",
   "execution_count": null,
   "id": "c4d29452",
   "metadata": {},
   "outputs": [],
   "source": [
    "'''\n",
    "4. What is the difference between a function and a function call?\n",
    "    Ans: Function is a set of statements to achieve a particular task. A function call is to run the program statements inside the function for that particular task.\n",
    "'''"
   ]
  },
  {
   "cell_type": "code",
   "execution_count": null,
   "id": "0ac79fa2",
   "metadata": {},
   "outputs": [],
   "source": [
    "'''\n",
    "5. How many global scopes are there in a Python program? How many local scopes?\n",
    "Ans: There is only one global scope and typically if a variable defined outside a function. But if a variable is defined inside a function that is local scope.\n",
    "'''"
   ]
  },
  {
   "cell_type": "code",
   "execution_count": null,
   "id": "7c064145",
   "metadata": {},
   "outputs": [],
   "source": [
    "'''6. What happens to variables in a local scope when the function call returns?\n",
    "    Ans: The local scoped variables are not defined outside the function after the function call returns.\n",
    "'''"
   ]
  },
  {
   "cell_type": "code",
   "execution_count": null,
   "id": "a766a5a6",
   "metadata": {},
   "outputs": [],
   "source": [
    "'''7. What is the concept of a return value? Is it possible to have a return value in an expression?\n",
    "Ans: return keyword followed by a value will return that value. However, it is not possible to use return a value in an expression. We’ll get a syntax error.\n",
    "'''"
   ]
  },
  {
   "cell_type": "code",
   "execution_count": null,
   "id": "4e18451a",
   "metadata": {},
   "outputs": [],
   "source": [
    "'''8. If a function does not have a return statement, what is the return value of a call to that function?\n",
    "Ans: The default return value None will be sent.\n",
    "'''"
   ]
  },
  {
   "cell_type": "code",
   "execution_count": null,
   "id": "b295af45",
   "metadata": {},
   "outputs": [],
   "source": [
    "'''9. How do you make a function variable refer to the global variable?\n",
    "Ans: We can use the keyword ‘global’ inside the function to refer to the global variable\n",
    "'''"
   ]
  },
  {
   "cell_type": "code",
   "execution_count": 1,
   "id": "86427cff",
   "metadata": {},
   "outputs": [
    {
     "data": {
      "text/plain": [
       "NoneType"
      ]
     },
     "execution_count": 1,
     "metadata": {},
     "output_type": "execute_result"
    }
   ],
   "source": [
    "'''10. What is the data type of None?'''\n",
    "type(None)"
   ]
  },
  {
   "cell_type": "code",
   "execution_count": null,
   "id": "d44265e5",
   "metadata": {},
   "outputs": [],
   "source": [
    "'''11. What does the sentence import areallyourpetsnamederic do?\n",
    "Ans: This imports the module ‘areallyourpetsnamederic’.\n",
    "'''"
   ]
  },
  {
   "cell_type": "code",
   "execution_count": null,
   "id": "3a3c57b7",
   "metadata": {},
   "outputs": [],
   "source": [
    "'''12. If you had a bacon() feature in a spam module, what would you call it after importing spam?\n",
    "Ans: will call spam.bacon()\n",
    "'''"
   ]
  },
  {
   "cell_type": "code",
   "execution_count": null,
   "id": "f6106192",
   "metadata": {},
   "outputs": [],
   "source": [
    "'''13. What can you do to save a programme from crashing if it encounters an error?\n",
    "ANs: we can put the program inside a try block.\n",
    "'''"
   ]
  },
  {
   "cell_type": "code",
   "execution_count": null,
   "id": "e20c5e43",
   "metadata": {},
   "outputs": [],
   "source": [
    "'''14. What is the purpose of the try clause? What is the purpose of the except clause?\n",
    "\tThe code which we anticipate can cause an error are put under the try clause and if error happens then the except block code is run where we can handle the exception by taking appropriate action.\n",
    "'''"
   ]
  }
 ],
 "metadata": {
  "kernelspec": {
   "display_name": "Python 3 (ipykernel)",
   "language": "python",
   "name": "python3"
  },
  "language_info": {
   "codemirror_mode": {
    "name": "ipython",
    "version": 3
   },
   "file_extension": ".py",
   "mimetype": "text/x-python",
   "name": "python",
   "nbconvert_exporter": "python",
   "pygments_lexer": "ipython3",
   "version": "3.9.7"
  }
 },
 "nbformat": 4,
 "nbformat_minor": 5
}
