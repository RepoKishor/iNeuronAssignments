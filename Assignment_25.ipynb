{
 "cells": [
  {
   "cell_type": "markdown",
   "id": "c8fbd719-0870-42f1-af13-9bb1b9bdfc05",
   "metadata": {},
   "source": [
    "1) . What is the difference between enclosing a list comprehension in square brackets and parentheses?"
   ]
  },
  {
   "cell_type": "code",
   "execution_count": 2,
   "id": "0ca38431-93a8-4ccd-a5fd-dd93f7b56403",
   "metadata": {},
   "outputs": [
    {
     "data": {
      "text/plain": [
       "[0, 1, 2, 3, 4]"
      ]
     },
     "execution_count": 2,
     "metadata": {},
     "output_type": "execute_result"
    }
   ],
   "source": [
    "li = [i for i in range(5)]\n",
    "li"
   ]
  },
  {
   "cell_type": "code",
   "execution_count": 3,
   "id": "fe132987-c7c2-40de-ae14-bcc3139512fc",
   "metadata": {},
   "outputs": [
    {
     "data": {
      "text/plain": [
       "<generator object <genexpr> at 0x000001AB58BA09E0>"
      ]
     },
     "execution_count": 3,
     "metadata": {},
     "output_type": "execute_result"
    }
   ],
   "source": [
    "li = (i for i in range(5))\n",
    "li"
   ]
  },
  {
   "cell_type": "markdown",
   "id": "e19b88ce-2d1b-4c5a-b280-b03176a1c336",
   "metadata": {},
   "source": [
    "2) What is the relationship between generators and iterators?"
   ]
  },
  {
   "cell_type": "code",
   "execution_count": null,
   "id": "fa6ee99d-c2ea-4f35-b0a3-b68720ffd2a1",
   "metadata": {},
   "outputs": [],
   "source": [
    "# Using an iterator- iter() keyword is used to create an iterator containing an iterable object\n",
    "# Generator uses the keyword “yield” to create iterators\n",
    "# "
   ]
  },
  {
   "cell_type": "code",
   "execution_count": 5,
   "id": "765cf632-4e8d-41d9-a50b-557915af7701",
   "metadata": {},
   "outputs": [
    {
     "name": "stdout",
     "output_type": "stream",
     "text": [
      "Object `function` not found.\n"
     ]
    }
   ],
   "source": [
    "3.What are the signs that a function is a generator function?"
   ]
  },
  {
   "cell_type": "code",
   "execution_count": null,
   "id": "408cf859-2833-4a23-a54d-121447e4cd72",
   "metadata": {},
   "outputs": [],
   "source": [
    "# when a function containcs a yield statement then it becomes a generator function"
   ]
  },
  {
   "cell_type": "markdown",
   "id": "f7ac3879-d966-42ab-8aba-98bfd3bf064b",
   "metadata": {},
   "source": [
    "4) What is the purpose of a yield statement?"
   ]
  },
  {
   "cell_type": "code",
   "execution_count": null,
   "id": "f87bf1db-5bb2-41a4-b17a-b29ef03b18c1",
   "metadata": {},
   "outputs": [],
   "source": [
    "#Yield is a keyword in Python that is used to return from a function without \n",
    "#destroying the states of its local variable and when the function is called, \n",
    "#the execution starts from the last yield statement. \n",
    "#Any function that contains a yield keyword is termed as generator."
   ]
  },
  {
   "cell_type": "code",
   "execution_count": 4,
   "id": "12fb7e2e-7952-4ea4-b6f1-0231da7c3c12",
   "metadata": {},
   "outputs": [
    {
     "name": "stdout",
     "output_type": "stream",
     "text": [
      "1\n",
      "4\n",
      "9\n",
      "16\n"
     ]
    }
   ],
   "source": [
    "def sq(n):\n",
    "    for i in range(1, n+1):\n",
    "        yield i*i\n",
    "\n",
    "lst = sq(6)\n",
    "print(next(lst))\n",
    "print(next(lst))\n",
    "print(next(lst))\n",
    "print(next(lst))"
   ]
  },
  {
   "cell_type": "code",
   "execution_count": null,
   "id": "ec8657c2-147f-4fd0-9d0f-5784f5549e24",
   "metadata": {},
   "outputs": [],
   "source": []
  }
 ],
 "metadata": {
  "kernelspec": {
   "display_name": "Python 3 (ipykernel)",
   "language": "python",
   "name": "python3"
  },
  "language_info": {
   "codemirror_mode": {
    "name": "ipython",
    "version": 3
   },
   "file_extension": ".py",
   "mimetype": "text/x-python",
   "name": "python",
   "nbconvert_exporter": "python",
   "pygments_lexer": "ipython3",
   "version": "3.10.9"
  }
 },
 "nbformat": 4,
 "nbformat_minor": 5
}
