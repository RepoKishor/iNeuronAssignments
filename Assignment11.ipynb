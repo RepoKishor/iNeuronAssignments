{
 "cells": [
  {
   "cell_type": "code",
   "execution_count": 1,
   "id": "0eb3b071",
   "metadata": {},
   "outputs": [
    {
     "name": "stderr",
     "output_type": "stream",
     "text": [
      "2022-07-14 20:54:53,246 this is debug\n"
     ]
    }
   ],
   "source": [
    "\"\"\"Q4What are the two lines that must be present in your software in order to call logging.debug()?\"\"\"\n",
    "import logging as lg\n",
    "lg.basicConfig(level=lg.DEBUG, format='%(asctime)s %(message)s')\n",
    "lg.debug(\"this is debug\")"
   ]
  },
  {
   "cell_type": "code",
   "execution_count": 2,
   "id": "c145f7f0",
   "metadata": {},
   "outputs": [
    {
     "name": "stderr",
     "output_type": "stream",
     "text": [
      "2022-07-14 20:56:14,026 this is debug\n"
     ]
    }
   ],
   "source": [
    "\"\"\"Q5What are the two lines that your program must have in order to have logging.debug() send a logging message to a file named programLog.txt?\"\"\"\n",
    "import logging as lg\n",
    "lg.basicConfig(filename=\"programLog.txt\",level=lg.DEBUG, format='%(asctime)s %(message)s')\n",
    "lg.debug(\"this is debug\")"
   ]
  },
  {
   "cell_type": "code",
   "execution_count": null,
   "id": "85b5f452",
   "metadata": {},
   "outputs": [],
   "source": [
    "\"\"\"Q6 What are the five levels of logging?\"\"\"\n",
    "lg.INFO\n",
    "lg.DEBUG\n",
    "lg.ERROR\n",
    "lg.WARNING\n",
    "lg.CRITICAL"
   ]
  },
  {
   "cell_type": "code",
   "execution_count": null,
   "id": "0267deda",
   "metadata": {},
   "outputs": [],
   "source": [
    "\"\"\"Q7 What line of code would you add to your software to disable all logging messages?\"\"\"\n",
    "lg.disable(level =lg.CRITICAL)"
   ]
  },
  {
   "cell_type": "code",
   "execution_count": null,
   "id": "fa17d6d2",
   "metadata": {},
   "outputs": [],
   "source": [
    "\"\"\"Q8 Why is using logging messages better than using print() to display the same message?\"\"\"\n",
    "# You can configure and control the log messages such as diasbling the various levels of messages"
   ]
  },
  {
   "cell_type": "code",
   "execution_count": null,
   "id": "c1a30a3d",
   "metadata": {},
   "outputs": [],
   "source": [
    "\"\"\"Q9 What are the differences between the Step Over, Step In, and Step Out buttons in the debugger?\"\"\"\n",
    "# The Step Over button is used to execute the marked line and then jump to the next marked line in the program.\n",
    "# The Step In button executes each line of a function. If the marked line is not a function then it jumps to the next marked line.\n",
    "# Step out button makes the control to go back to the point from where the execution was called. For example, \n",
    "# it returns back from the function execution to the line from which it was called."
   ]
  },
  {
   "cell_type": "code",
   "execution_count": null,
   "id": "a3de759e",
   "metadata": {},
   "outputs": [],
   "source": [
    "\"\"\"Q10 After you click Continue, when will the debugger stop ?\"\"\"\n",
    "# Only when the debugger control finishes the last line execution of the program"
   ]
  },
  {
   "cell_type": "code",
   "execution_count": null,
   "id": "ab24d1e3",
   "metadata": {},
   "outputs": [],
   "source": [
    "\"\"\"Q11 What is the concept of a breakpoint?\"\"\"\n",
    "# it a mark on a line of code which tells the debugger to stop executing and wait for the Step buttons to proceed."
   ]
  }
 ],
 "metadata": {
  "kernelspec": {
   "display_name": "Python 3 (ipykernel)",
   "language": "python",
   "name": "python3"
  },
  "language_info": {
   "codemirror_mode": {
    "name": "ipython",
    "version": 3
   },
   "file_extension": ".py",
   "mimetype": "text/x-python",
   "name": "python",
   "nbconvert_exporter": "python",
   "pygments_lexer": "ipython3",
   "version": "3.9.12"
  }
 },
 "nbformat": 4,
 "nbformat_minor": 5
}
