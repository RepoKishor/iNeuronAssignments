{
 "cells": [
  {
   "cell_type": "code",
   "execution_count": null,
   "id": "f2a8af6d",
   "metadata": {},
   "outputs": [],
   "source": [
    "\"\"\"\n",
    "1. In the below elements which of them are values or an expression? eg:- values can be integer or string and expressions will be mathematical operators.\n",
    "*  (mathematical operator)\n",
    "'hello' (string)\n",
    "-87.8 (integer)\n",
    "- (mathematical operator)\n",
    "/ (mathematical operator)\n",
    "+\t(mathematical operator)\n",
    "6 (value)\n",
    "\n",
    "\"\"\""
   ]
  },
  {
   "cell_type": "code",
   "execution_count": null,
   "id": "cc20d1b2",
   "metadata": {},
   "outputs": [],
   "source": [
    "'''2. What is the difference between string and variable?\n",
    "String is a data type and variable is something that holds data and has got memory allocated for that.\n",
    "'''"
   ]
  },
  {
   "cell_type": "code",
   "execution_count": null,
   "id": "3a345297",
   "metadata": {},
   "outputs": [],
   "source": [
    "'''3. Describe three different data types.\n",
    "int, str bool, dict, map, set, list etc.\n",
    "'''"
   ]
  },
  {
   "cell_type": "code",
   "execution_count": null,
   "id": "283775e9",
   "metadata": {},
   "outputs": [],
   "source": [
    "'''4. What is an expression made up of? What do all expressions do?\n",
    "Expressions are made up of variables, objects and operators. They evaluate to a value and the value can be of any data type.\n",
    "'''"
   ]
  },
  {
   "cell_type": "code",
   "execution_count": null,
   "id": "e8d46027",
   "metadata": {},
   "outputs": [],
   "source": [
    "'''5. This assignment statements, like spam = 10. What is the difference between an expression and a statement?\n",
    "Expressions evaluate to a value. They basically represent a value and statements are for doing some task in programming.\n",
    "'''"
   ]
  },
  {
   "cell_type": "code",
   "execution_count": null,
   "id": "16aab658",
   "metadata": {},
   "outputs": [],
   "source": [
    "'''6. After running the following code, what does the variable bacon contain?\n",
    "bacon = 22\n",
    "bacon + 1\n",
    "The variable bacon contains 22 only as the expression bacon+1 is not assigned to any variable.\n",
    "'''"
   ]
  },
  {
   "cell_type": "code",
   "execution_count": null,
   "id": "a4b9cb8b",
   "metadata": {},
   "outputs": [],
   "source": [
    "'''7. What should the values of the following two terms be?\n",
    "'spam' + 'spamspam' will result in spamspamspam\n",
    "'spam' * 3 will result in spamspamspam\n",
    "'''"
   ]
  },
  {
   "cell_type": "code",
   "execution_count": 1,
   "id": "1fcc8aea",
   "metadata": {},
   "outputs": [
    {
     "data": {
      "text/plain": [
       "'spamspamspam'"
      ]
     },
     "execution_count": 1,
     "metadata": {},
     "output_type": "execute_result"
    }
   ],
   "source": [
    "'spam'+'spamspam'"
   ]
  },
  {
   "cell_type": "code",
   "execution_count": null,
   "id": "58d72eee",
   "metadata": {},
   "outputs": [],
   "source": [
    "'''8. Why is eggs a valid variable name while 100 is invalid?\n",
    "Because variable name cannot start with digits in python.\n",
    "'''"
   ]
  },
  {
   "cell_type": "code",
   "execution_count": null,
   "id": "c0366e3d",
   "metadata": {},
   "outputs": [],
   "source": [
    "'''9. What three functions can be used to get the integer, floating-point number, or string version of a value?\n",
    "int(), float() and str()\n",
    "'''"
   ]
  },
  {
   "cell_type": "code",
   "execution_count": null,
   "id": "68d62787",
   "metadata": {},
   "outputs": [],
   "source": [
    "'''10. Why does this expression cause an error? How can you fix it?\n",
    "'I have eaten ' + 99 + ' burritos.'\n",
    "This expression cause an error because we cannot concatenate str and int. However, to fix it we can use this 'I have eaten ' + str(99) + ' burritos.'\n",
    "'''"
   ]
  }
 ],
 "metadata": {
  "kernelspec": {
   "display_name": "Python 3 (ipykernel)",
   "language": "python",
   "name": "python3"
  },
  "language_info": {
   "codemirror_mode": {
    "name": "ipython",
    "version": 3
   },
   "file_extension": ".py",
   "mimetype": "text/x-python",
   "name": "python",
   "nbconvert_exporter": "python",
   "pygments_lexer": "ipython3",
   "version": "3.9.7"
  }
 },
 "nbformat": 4,
 "nbformat_minor": 5
}
