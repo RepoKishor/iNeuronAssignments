{
 "cells": [
  {
   "cell_type": "code",
   "execution_count": null,
   "id": "759b5c7c",
   "metadata": {},
   "outputs": [],
   "source": [
    "'''1.What are the two values of the Boolean data type? How do you write them?\n",
    "True, False\n",
    "'''"
   ]
  },
  {
   "cell_type": "code",
   "execution_count": null,
   "id": "4ebf0cf3",
   "metadata": {},
   "outputs": [],
   "source": [
    "'''2. What are the three different types of Boolean operators?\n",
    ">, < ==\n",
    "'''"
   ]
  },
  {
   "cell_type": "code",
   "execution_count": null,
   "id": "8d04feb0",
   "metadata": {},
   "outputs": [],
   "source": [
    "'''3. Make a list of each Boolean operator's truth tables (i.e. every possible combination of Boolean values for the operator and what it evaluate).\n",
    "And\tTrue if both are True\tTrue and True = True\n",
    "Or\tTrue if at least one is True\tTrue or False = True\n",
    "False or True = True\n",
    "Not\tTrue if one is false\tNot False = True\n",
    "'''"
   ]
  },
  {
   "cell_type": "code",
   "execution_count": null,
   "id": "06813e4d",
   "metadata": {},
   "outputs": [],
   "source": [
    "'''\n",
    "4. What are the values of the following expressions?\n",
    "(5 > 4) and (3 == 5) False\n",
    "not (5 > 4) False\n",
    "(5 > 4) or (3 == 5) True\n",
    "not ((5 > 4) or (3 == 5)) False\n",
    "(True and True) and (True == False) False\n",
    "(not False) or (not True) True\n",
    "\n",
    "'''"
   ]
  },
  {
   "cell_type": "code",
   "execution_count": null,
   "id": "344f0c2d",
   "metadata": {},
   "outputs": [],
   "source": [
    "'''5. What are the six comparison operators?\n",
    "<,>,==, <=, >=, !=\n",
    "'''"
   ]
  },
  {
   "cell_type": "code",
   "execution_count": null,
   "id": "d052feb6",
   "metadata": {},
   "outputs": [],
   "source": [
    "'''6. How do you tell the difference between the equal to and assignment operators?Describe a condition and when you would use one.\n",
    "if type(i) == int:\n",
    "    i=0\n",
    "'''"
   ]
  },
  {
   "cell_type": "code",
   "execution_count": null,
   "id": "9de3bd3d",
   "metadata": {},
   "outputs": [],
   "source": [
    "'''\n",
    "7. Identify the three blocks in this code:\n",
    "spam = 0\n",
    "if spam == 10: ( Block-1)\n",
    "print('eggs')\n",
    "if spam > 5: ( Block-2)\n",
    "print('bacon')\n",
    "else: (Block-3)\n",
    "print('ham')\n",
    "print('spam')\n",
    "print('spam')\n",
    "\n",
    "'''"
   ]
  },
  {
   "cell_type": "code",
   "execution_count": 4,
   "id": "0320b9f6",
   "metadata": {},
   "outputs": [
    {
     "name": "stdout",
     "output_type": "stream",
     "text": [
      "Howdy\n"
     ]
    }
   ],
   "source": [
    "'''8. Write code that prints Hello if 1 is stored in spam, prints Howdy if 2 is stored in spam, and prints Greetings! if anything else is stored in spam.'''\n",
    "spam=2\n",
    "if spam==1:\n",
    "    print('Hello')\n",
    "elif spam==2:\n",
    "        print('Howdy')\n",
    "else:\n",
    "    print('Greetings!')\n"
   ]
  },
  {
   "cell_type": "code",
   "execution_count": null,
   "id": "22155664",
   "metadata": {},
   "outputs": [],
   "source": [
    "'''9. If your programme is stuck in an endless loop, what keys you’ll press?\n",
    "    q\n",
    "'''"
   ]
  },
  {
   "cell_type": "code",
   "execution_count": null,
   "id": "eba9a1a3",
   "metadata": {},
   "outputs": [],
   "source": [
    "'''\n",
    "10. How can you tell the difference between break and continue?\n",
    "break comes out of the loop in which it is written and continue stops the execution of the program from the next line onwards in the block.\n",
    "\n",
    "'''"
   ]
  },
  {
   "cell_type": "code",
   "execution_count": null,
   "id": "1067085f",
   "metadata": {},
   "outputs": [],
   "source": [
    "'''11. In a for loop, what is the difference between range(10), range(0, 10), and range(0, 10, 1)?\n",
    "        All three functions will loop 10 times i.e., from 0 through 9\n",
    "'''"
   ]
  },
  {
   "cell_type": "code",
   "execution_count": 6,
   "id": "1cf2b4d5",
   "metadata": {},
   "outputs": [
    {
     "name": "stdout",
     "output_type": "stream",
     "text": [
      "1\n",
      "2\n",
      "3\n",
      "4\n",
      "5\n",
      "6\n",
      "7\n",
      "8\n",
      "9\n",
      "10\n",
      "1\n",
      "2\n",
      "3\n",
      "4\n",
      "5\n",
      "6\n",
      "7\n",
      "8\n",
      "9\n",
      "10\n"
     ]
    }
   ],
   "source": [
    "'''12. Write a short program that prints the numbers 1 to 10 using a for loop. Then write an equivalent program that prints the numbers 1 to 10 using a while loop.'''\n",
    "for i in range(1,11):\n",
    "    print(i)\n",
    "\n",
    "j=1\n",
    "while j<11:\n",
    "    print(j)\n",
    "    j+=1"
   ]
  },
  {
   "cell_type": "code",
   "execution_count": null,
   "id": "d809ed3b",
   "metadata": {},
   "outputs": [],
   "source": [
    "'''\n",
    "13. If you had a function named bacon() inside a module named spam, how would you call it after importing spam?\n",
    "\n",
    "    spam.bacon()\n",
    "\n",
    "'''"
   ]
  }
 ],
 "metadata": {
  "kernelspec": {
   "display_name": "Python 3 (ipykernel)",
   "language": "python",
   "name": "python3"
  },
  "language_info": {
   "codemirror_mode": {
    "name": "ipython",
    "version": 3
   },
   "file_extension": ".py",
   "mimetype": "text/x-python",
   "name": "python",
   "nbconvert_exporter": "python",
   "pygments_lexer": "ipython3",
   "version": "3.9.7"
  }
 },
 "nbformat": 4,
 "nbformat_minor": 5
}
