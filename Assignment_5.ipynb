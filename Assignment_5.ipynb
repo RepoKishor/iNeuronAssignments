{
 "cells": [
  {
   "cell_type": "code",
   "execution_count": null,
   "id": "9fcda909",
   "metadata": {},
   "outputs": [],
   "source": [
    "'''1. What does an empty dictionary's code look like?\n",
    "\tAns: {}\n",
    "'''"
   ]
  },
  {
   "cell_type": "code",
   "execution_count": null,
   "id": "db525d75",
   "metadata": {},
   "outputs": [],
   "source": [
    "'''2. What is the value of a dictionary value with the key 'foo' and the value 42?\n",
    "\tAns: {“foo”:42}\n",
    "'''"
   ]
  },
  {
   "cell_type": "code",
   "execution_count": null,
   "id": "09c082ba",
   "metadata": {},
   "outputs": [],
   "source": [
    "'''3. What is the most significant distinction between a dictionary and a list?\n",
    "\tAns: dictionary stores elements as key value pair and a list does not store as key value pair.\n",
    "'''"
   ]
  },
  {
   "cell_type": "code",
   "execution_count": 1,
   "id": "69d7e1b8",
   "metadata": {},
   "outputs": [
    {
     "ename": "KeyError",
     "evalue": "'foo'",
     "output_type": "error",
     "traceback": [
      "\u001b[1;31m---------------------------------------------------------------------------\u001b[0m",
      "\u001b[1;31mKeyError\u001b[0m                                  Traceback (most recent call last)",
      "\u001b[1;32m~\\AppData\\Local\\Temp/ipykernel_9636/1939491763.py\u001b[0m in \u001b[0;36m<module>\u001b[1;34m\u001b[0m\n\u001b[0;32m      1\u001b[0m \u001b[1;34m'''4. What happens if you try to access spam['foo'] if spam is {'bar': 100}?'''\u001b[0m\u001b[1;33m\u001b[0m\u001b[1;33m\u001b[0m\u001b[0m\n\u001b[0;32m      2\u001b[0m \u001b[0mspam\u001b[0m\u001b[1;33m=\u001b[0m\u001b[1;33m{\u001b[0m\u001b[1;34m'bar'\u001b[0m\u001b[1;33m:\u001b[0m \u001b[1;36m100\u001b[0m\u001b[1;33m}\u001b[0m\u001b[1;33m\u001b[0m\u001b[1;33m\u001b[0m\u001b[0m\n\u001b[1;32m----> 3\u001b[1;33m \u001b[0mspam\u001b[0m\u001b[1;33m[\u001b[0m\u001b[1;34m'foo'\u001b[0m\u001b[1;33m]\u001b[0m\u001b[1;33m\u001b[0m\u001b[1;33m\u001b[0m\u001b[0m\n\u001b[0m",
      "\u001b[1;31mKeyError\u001b[0m: 'foo'"
     ]
    }
   ],
   "source": [
    "'''4. What happens if you try to access spam['foo'] if spam is {'bar': 100}?'''\n",
    "spam={'bar': 100}\n",
    "spam['foo']"
   ]
  },
  {
   "cell_type": "code",
   "execution_count": null,
   "id": "e7f69b61",
   "metadata": {},
   "outputs": [],
   "source": [
    "'''\n",
    "5. If a dictionary is stored in spam, what is the difference between the expressions 'cat' in spam and 'cat' in spam.keys()?\n",
    "\tAns: it is a string value in the expression and for the dictionary spam, it is a key.\n",
    "'''"
   ]
  },
  {
   "cell_type": "code",
   "execution_count": null,
   "id": "288809da",
   "metadata": {},
   "outputs": [],
   "source": [
    "'''\n",
    "6. If a dictionary is stored in spam, what is the difference between the expressions 'cat' in spam and 'cat' in spam.values()?\n",
    "\tAns: It checks is there is any value as ‘cat’ in the dictionary for any of the keys.\n",
    "'''"
   ]
  },
  {
   "cell_type": "code",
   "execution_count": null,
   "id": "d0d8f344",
   "metadata": {},
   "outputs": [],
   "source": [
    "'''7. What is a shortcut for the following code?\n",
    "if 'color' not in spam:\n",
    "spam['color'] = 'black'\n",
    "'''"
   ]
  },
  {
   "cell_type": "code",
   "execution_count": 3,
   "id": "3ff7435f",
   "metadata": {},
   "outputs": [
    {
     "data": {
      "text/plain": [
       "'No answer'"
      ]
     },
     "execution_count": 3,
     "metadata": {},
     "output_type": "execute_result"
    }
   ],
   "source": [
    "'''8. How do you \"pretty print\" dictionary values using which module and function? '''\n",
    "'''No answer'''"
   ]
  },
  {
   "cell_type": "code",
   "execution_count": null,
   "id": "7a3c2b61",
   "metadata": {},
   "outputs": [],
   "source": []
  }
 ],
 "metadata": {
  "kernelspec": {
   "display_name": "Python 3 (ipykernel)",
   "language": "python",
   "name": "python3"
  },
  "language_info": {
   "codemirror_mode": {
    "name": "ipython",
    "version": 3
   },
   "file_extension": ".py",
   "mimetype": "text/x-python",
   "name": "python",
   "nbconvert_exporter": "python",
   "pygments_lexer": "ipython3",
   "version": "3.9.7"
  }
 },
 "nbformat": 4,
 "nbformat_minor": 5
}
