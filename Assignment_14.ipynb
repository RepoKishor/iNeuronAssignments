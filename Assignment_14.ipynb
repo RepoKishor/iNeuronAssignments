{
 "cells": [
  {
   "cell_type": "markdown",
   "id": "ed51b924-5ac7-476b-a002-67b90642a988",
   "metadata": {},
   "source": [
    "1. What does RGBA stand for?"
   ]
  },
  {
   "cell_type": "code",
   "execution_count": null,
   "id": "891edb27-5d61-44ef-aad6-a4eec4e37325",
   "metadata": {},
   "outputs": [],
   "source": [
    "Red-Green-Blue-Alpha"
   ]
  },
  {
   "cell_type": "markdown",
   "id": "4f7a3e8c-b2ff-4690-8475-e4972be7d443",
   "metadata": {},
   "source": [
    "2. From the Pillow module, how do you get the RGBA value of any images?"
   ]
  },
  {
   "cell_type": "code",
   "execution_count": null,
   "id": "0d132a9f-9313-4bd8-beab-bb179e72e345",
   "metadata": {},
   "outputs": [],
   "source": [
    "from PIL import ImageColor\n",
    "ImageColor.getColor()"
   ]
  },
  {
   "cell_type": "markdown",
   "id": "031064df-b3c0-43a9-89b2-34aec973856a",
   "metadata": {},
   "source": [
    "4. Use your image and load in notebook then, How can you find out the width and height of an Image object?"
   ]
  },
  {
   "cell_type": "code",
   "execution_count": 8,
   "id": "4fbc689e-f316-4735-a424-eef4ce9cbd48",
   "metadata": {},
   "outputs": [
    {
     "name": "stdout",
     "output_type": "stream",
     "text": [
      "height is:  851\n",
      "width is:  381\n"
     ]
    }
   ],
   "source": [
    "from PIL import Image\n",
    "img = Image.open('ITM.png')\n",
    "width = img.width\n",
    "height = img.height\n",
    "print(\"height is: \", height)\n",
    "print(\"width is: \", width)"
   ]
  },
  {
   "cell_type": "markdown",
   "id": "1d1dfe0e-dac8-4c5b-b81b-4835a1d55c33",
   "metadata": {},
   "source": [
    "6.After making changes to an Image object, how could you save it as an image file?"
   ]
  },
  {
   "cell_type": "code",
   "execution_count": 10,
   "id": "71bc07f4-38d4-40f3-8f44-56c0a0d760b9",
   "metadata": {},
   "outputs": [],
   "source": [
    "from PIL import Image\n",
    "img = Image.open('ITM.png')\n",
    "img.save('modified_ITM.png')"
   ]
  },
  {
   "cell_type": "markdown",
   "id": "cb6978f2-1dc2-4ffd-b874-1fa8965a8c03",
   "metadata": {},
   "source": [
    "7. What module contains Pillow’s shape-drawing code?"
   ]
  },
  {
   "cell_type": "code",
   "execution_count": null,
   "id": "de9bbd47-46e6-4469-951a-8a327df8b341",
   "metadata": {},
   "outputs": [],
   "source": [
    "ImageDraw module"
   ]
  },
  {
   "cell_type": "markdown",
   "id": "ba2e2c74-1e59-4947-a709-57700eb3534e",
   "metadata": {},
   "source": [
    "8. Image objects do not have drawing methods. What kind of object does? How do you get this kind of object?"
   ]
  },
  {
   "cell_type": "code",
   "execution_count": 13,
   "id": "1b374508-04c5-4cc0-992d-8567e0cfab18",
   "metadata": {},
   "outputs": [],
   "source": [
    "from PIL import Image, ImageDraw\n",
    "image = Image.new('RGBA', (100, 100))\n",
    "draw=ImageDraw.Draw(image)"
   ]
  },
  {
   "cell_type": "code",
   "execution_count": null,
   "id": "44046664-ea6e-4bd2-b3ff-e0aa308c2bbe",
   "metadata": {},
   "outputs": [],
   "source": []
  }
 ],
 "metadata": {
  "kernelspec": {
   "display_name": "Python 3 (ipykernel)",
   "language": "python",
   "name": "python3"
  },
  "language_info": {
   "codemirror_mode": {
    "name": "ipython",
    "version": 3
   },
   "file_extension": ".py",
   "mimetype": "text/x-python",
   "name": "python",
   "nbconvert_exporter": "python",
   "pygments_lexer": "ipython3",
   "version": "3.10.9"
  }
 },
 "nbformat": 4,
 "nbformat_minor": 5
}
