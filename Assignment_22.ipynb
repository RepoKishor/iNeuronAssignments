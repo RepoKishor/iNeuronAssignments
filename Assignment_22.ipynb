{
 "cells": [
  {
   "cell_type": "markdown",
   "id": "3a3f468c-211b-407c-8500-2df1d788d15d",
   "metadata": {},
   "source": [
    "1. What is the result of the code, and explain?"
   ]
  },
  {
   "cell_type": "code",
   "execution_count": 4,
   "id": "ee3ac803-b16a-4cf3-af06-b88d7576eae6",
   "metadata": {},
   "outputs": [
    {
     "name": "stdout",
     "output_type": "stream",
     "text": [
      "iNeuron\n"
     ]
    }
   ],
   "source": [
    "X = 'iNeuron'\n",
    "def func():\n",
    "    print(X)\n",
    "func()"
   ]
  },
  {
   "cell_type": "code",
   "execution_count": null,
   "id": "db417206-6559-4c9a-b891-4e10d7860a30",
   "metadata": {},
   "outputs": [],
   "source": [
    "# x is a global variable which we can access from inside a function."
   ]
  },
  {
   "cell_type": "markdown",
   "id": "1cdfbfb6-326c-4fd1-aeb7-4a0ecf136cb2",
   "metadata": {},
   "source": [
    "2. What is the result of the code, and explain?"
   ]
  },
  {
   "cell_type": "code",
   "execution_count": 5,
   "id": "c7486a1d-6ea8-4310-8b40-755c7b74a359",
   "metadata": {},
   "outputs": [
    {
     "name": "stdout",
     "output_type": "stream",
     "text": [
      "iNeuron\n"
     ]
    }
   ],
   "source": [
    "X = 'iNeuron'\n",
    "def func():\n",
    "    X = 'NI!'\n",
    "\n",
    "func()\n",
    "print(X)"
   ]
  },
  {
   "cell_type": "code",
   "execution_count": null,
   "id": "e5615907-8926-45c3-8785-6fa80ac37980",
   "metadata": {},
   "outputs": [],
   "source": [
    "# The scope of global variable is bigger scope than the local variable"
   ]
  },
  {
   "cell_type": "markdown",
   "id": "9a9b295e-fbd2-47ae-93d5-e5951620040d",
   "metadata": {},
   "source": [
    "3. What does this code print, and why?"
   ]
  },
  {
   "cell_type": "code",
   "execution_count": 6,
   "id": "644ba6c3-ee93-431b-acd1-868a28e7ce7b",
   "metadata": {},
   "outputs": [
    {
     "name": "stdout",
     "output_type": "stream",
     "text": [
      "NI!\n",
      "iNeuron\n"
     ]
    }
   ],
   "source": [
    "X = 'iNeuron'\n",
    "def func():\n",
    "    X = 'NI!'\n",
    "    print(X)\n",
    "\n",
    "func()\n",
    "print(X)"
   ]
  },
  {
   "cell_type": "code",
   "execution_count": null,
   "id": "101204cc-b00e-47e4-b448-42a3e8a04f93",
   "metadata": {},
   "outputs": [],
   "source": [
    "# the local and global variable scopes have been demonstrated"
   ]
  },
  {
   "cell_type": "markdown",
   "id": "d5b17ce1-87fb-4c0e-93ae-0cb5cc2fc235",
   "metadata": {},
   "source": [
    "4. What output does this code produce? Why?"
   ]
  },
  {
   "cell_type": "code",
   "execution_count": 7,
   "id": "a8c42245-9bfb-419f-a6e5-62ffe4f100b5",
   "metadata": {},
   "outputs": [
    {
     "name": "stdout",
     "output_type": "stream",
     "text": [
      "NI!\n",
      "NI!\n"
     ]
    }
   ],
   "source": [
    "X = 'iNeuron'\n",
    "def func():\n",
    "    global X\n",
    "    X = 'NI!'\n",
    "    print(X)\n",
    "\n",
    "func()\n",
    "print(X)"
   ]
  },
  {
   "cell_type": "code",
   "execution_count": null,
   "id": "3e62d10d-0c57-4a7b-a493-275cd8884df4",
   "metadata": {},
   "outputs": [],
   "source": [
    "#because the global variable is again defined inside the function, that value has been priinted"
   ]
  },
  {
   "cell_type": "markdown",
   "id": "34b067ed-7dc5-4eeb-9d1f-2900fd43e3f5",
   "metadata": {},
   "source": [
    "5. What about this code—what’s the output, and why?"
   ]
  },
  {
   "cell_type": "code",
   "execution_count": 8,
   "id": "42f2ce8b-760d-41ae-b927-25e321df7c35",
   "metadata": {},
   "outputs": [
    {
     "name": "stdout",
     "output_type": "stream",
     "text": [
      "iNeuron\n"
     ]
    },
    {
     "data": {
      "text/plain": [
       "'iNeuron'"
      ]
     },
     "execution_count": 8,
     "metadata": {},
     "output_type": "execute_result"
    }
   ],
   "source": [
    "X = 'iNeuron'\n",
    "def func():\n",
    "    X = 'NI'\n",
    "def nested():\n",
    "    print(X)\n",
    "    \n",
    "nested()\n",
    "func()\n",
    "X"
   ]
  },
  {
   "cell_type": "code",
   "execution_count": null,
   "id": "8b64a95c-3f83-4829-be4e-ad32dd74ed77",
   "metadata": {},
   "outputs": [],
   "source": [
    "#nested function will print iNeuron and func() will not print anything"
   ]
  },
  {
   "cell_type": "markdown",
   "id": "3c3be972-1072-4701-9119-3fce4c30de83",
   "metadata": {},
   "source": [
    "6. How about this code: what is its output in Python 3, and explain?"
   ]
  },
  {
   "cell_type": "code",
   "execution_count": 9,
   "id": "330020d7-e2be-4709-9aac-b6cbb1e6ce72",
   "metadata": {},
   "outputs": [
    {
     "name": "stdout",
     "output_type": "stream",
     "text": [
      "spam\n"
     ]
    }
   ],
   "source": [
    "def func():\n",
    "    X = 'NI'\n",
    "    def nested():\n",
    "        nonlocal X\n",
    "        X = 'spam'\n",
    "    nested()\n",
    "    print(X)\n",
    "func()"
   ]
  },
  {
   "cell_type": "code",
   "execution_count": null,
   "id": "90b5407b-76f6-4965-b364-a883129b1463",
   "metadata": {},
   "outputs": [],
   "source": [
    "# it is neither a local variable nor a global variable. So it will print the updated value of X"
   ]
  },
  {
   "cell_type": "code",
   "execution_count": null,
   "id": "1a788314-d032-4512-bf85-4fc38f12c78e",
   "metadata": {},
   "outputs": [],
   "source": []
  }
 ],
 "metadata": {
  "kernelspec": {
   "display_name": "Python 3 (ipykernel)",
   "language": "python",
   "name": "python3"
  },
  "language_info": {
   "codemirror_mode": {
    "name": "ipython",
    "version": 3
   },
   "file_extension": ".py",
   "mimetype": "text/x-python",
   "name": "python",
   "nbconvert_exporter": "python",
   "pygments_lexer": "ipython3",
   "version": "3.10.9"
  }
 },
 "nbformat": 4,
 "nbformat_minor": 5
}
