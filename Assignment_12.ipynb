{
 "cells": [
  {
   "cell_type": "markdown",
   "id": "71c5ba74-82db-4943-9c2a-be1be30723fa",
   "metadata": {},
   "source": [
    "1. In what modes should the PdfFileReader() and PdfFileWriter() File objects will be opened?"
   ]
  },
  {
   "cell_type": "markdown",
   "id": "d3092d81-50ad-4992-b0ae-5683236ccf49",
   "metadata": {},
   "source": [
    "PdfFileReader() in rb mode and PdfFileWriter() in wb mode.PdfFileReader() in rb mode and PdfFileWriter() in wb mode."
   ]
  },
  {
   "cell_type": "markdown",
   "id": "f82ff967-cd2f-4da6-936d-ba59dd054fb2",
   "metadata": {},
   "source": [
    "2. From a PdfFileReader object, how do you get a Page object for page 5?"
   ]
  },
  {
   "cell_type": "code",
   "execution_count": 5,
   "id": "f688890d-68e2-4175-b32f-18683a135dc9",
   "metadata": {},
   "outputs": [
    {
     "name": "stdout",
     "output_type": "stream",
     "text": [
      "Collecting PyPDF2Note: you may need to restart the kernel to use updated packages.\n",
      "\n",
      "  Downloading pypdf2-3.0.1-py3-none-any.whl (232 kB)\n",
      "     -------------------------------------- 232.6/232.6 kB 1.4 MB/s eta 0:00:00\n",
      "Installing collected packages: PyPDF2\n",
      "Successfully installed PyPDF2-3.0.1\n"
     ]
    }
   ],
   "source": [
    "pip install PyPDF2"
   ]
  },
  {
   "cell_type": "code",
   "execution_count": 40,
   "id": "0bb504fd-165d-4ce2-88fa-a32a5a9c949e",
   "metadata": {},
   "outputs": [],
   "source": [
    "from PyPDF2 import PdfReader\n",
    "import os"
   ]
  },
  {
   "cell_type": "code",
   "execution_count": 60,
   "id": "550c2def-59a1-49d9-8c4f-39602da5ed0d",
   "metadata": {},
   "outputs": [
    {
     "name": "stdout",
     "output_type": "stream",
     "text": [
      "In [26]:\n",
      "In [27]:\n",
      "In [29]:\n",
      "In [1]:\n",
      "In [2]:{'a': 0, 'e': 0, 'i': 0, 'o': 0, 'u': 0}  \n",
      "{'a': 2, 'e': 5, 'i': 3, 'o': 5, 'u': 3}  \n",
      "{1: 'a', 2: 'c', 4: 'd'}  \n",
      "Enter number of rows: 5  \n",
      "* * * *  \n",
      "* * *  \n",
      "* *  \n",
      "*  \n",
      "[0, 1, 4, 9, 16]  #Program to Count the Number of Each Vowel\n",
      "vowels=\"aeiou\"\n",
      "ip_str = 'Hello, have you tried our tutorial section yet?'\n",
      "ip_str=ip_str.casefold ()\n",
      "# make a dictionary with each vowel a key and value 0\n",
      "count={}.fromkeys (vowels,0)\n",
      "print(count)\n",
      "for char in ip_str:\n",
      "    if char in count:\n",
      "        count[char] +=1\n",
      "print(count)\n",
      " \n",
      "# merging two dictionaries\n",
      "dict_1 = {1: 'a', 2: 'b'}\n",
      "dict_2 = {2: 'c', 4: 'd'}\n",
      "print({**dict_1,**dict_2})\n",
      "rows = int(input(\"Enter number of rows: \" ))\n",
      " \n",
      "for i in range(rows, 1, -1):\n",
      "    #for space in range(0, rows-i):\n",
      "       # print(\"  \", end=\"\")\n",
      "    for j in range(i, 2*i-1):\n",
      "        print(\"* \", end=\"\")\n",
      "    #for j in range(1, i-1):\n",
      "        #print(\"* \", end=\"\")\n",
      "    print()\n",
      "x = [i**2 for i in range(5)]\n",
      "print(x)\n",
      "def genFib(n):\n",
      "    a=1\n",
      "    b=1\n",
      "    for i in range(n):\n",
      "        yield a\n",
      "        a,b=b,a+b\n"
     ]
    }
   ],
   "source": [
    "pdfFile = open('E:\\\\iNeuron\\\\Practice_Programs.pdf', 'rb')\n",
    "pr = PyPDF2.PdfReader(pdfFile)\n",
    "page = pr.pages[3]\n",
    "print(page.extract_text())\n",
    "# closing the pdf file object"
   ]
  },
  {
   "cell_type": "markdown",
   "id": "2f676211-5420-4429-80a3-9fd6e8b10faf",
   "metadata": {},
   "source": [
    "3. What PdfFileReader variable stores the number of pages in the PDF document?"
   ]
  },
  {
   "cell_type": "code",
   "execution_count": 61,
   "id": "52882124-1bed-4215-b874-c1e6f4aaeb6d",
   "metadata": {},
   "outputs": [
    {
     "name": "stdout",
     "output_type": "stream",
     "text": [
      "length 11\n"
     ]
    }
   ],
   "source": [
    "print(\"length\", len(pr.pages))"
   ]
  },
  {
   "cell_type": "markdown",
   "id": "77f8e53c-0317-4e49-accf-a6104b35e97f",
   "metadata": {},
   "source": [
    "4. If a PdfFileReader object’s PDF is encrypted with the password swordfish, \n",
    "what must you do before you can obtain Page objects from it?"
   ]
  },
  {
   "cell_type": "code",
   "execution_count": 67,
   "id": "058514bd-bb04-4405-b43a-b20b742932ec",
   "metadata": {},
   "outputs": [
    {
     "name": "stdout",
     "output_type": "stream",
     "text": [
      "Dataset Github link:\n",
      "h t t p s : / / r a w . g i t h u b u s e r c o n t e n t . c o m / a v n y a d a v / s e n s o r - f a u l t - d e t e c t i o n / m a i n / a p s _ f a i l u r e _ t r a i n i n g\n",
      "_ s e t 1 . c s v\n",
      "Step for the data download:\n",
      "Copy and paste into the terminal\n",
      "> w g e t\n",
      "h t t p s : / / r a w . g i t h u b u s e r c o n t e n t . c o m / a v n y a d a v / s e n s o r - f a u l t - d e t e c t i o n / m a i n / a p s _ f a i l u r e _ t r a i n i n g\n",
      "_ s e t 1 . c s v\n",
      "Git remote remove origin\n",
      "Git remote -v\n",
      "Git remote add origin <give your url>\n",
      "Git log\n",
      "Git push origin main\n",
      "<Want to sign in, Copy code and paste it>\n",
      "Git pull origin main\n",
      "Do  it forcefully if you want\n",
      "Git push -f origin main\n",
      "Ls -a\n",
      "Git reset –soft 6afd\n",
      "Git add .\n",
      "Git status\n",
      "Git config –global user.email <your_git_register_emil>\n",
      "Git config –global user.name <user_name>\n",
      "Git commit -m <write any message>\n",
      "Git push -f origin main\n"
     ]
    }
   ],
   "source": [
    "pdfFile = open('E:\\\\iNeuron\\\\fsds-may-project.pdf', 'rb')\n",
    "pr = PyPDF2.PdfReader(pdfFile)\n",
    "if pr.is_encrypted:\n",
    "    pr.decrypt(\"swordfish\")\n",
    "page = pr.pages[0]\n",
    "print(page.extract_text())\n",
    "# closing the pdf file object"
   ]
  },
  {
   "cell_type": "markdown",
   "id": "abe05915-b3fb-4419-af3d-4e53db2cc009",
   "metadata": {},
   "source": [
    "5. What methods do you use to rotate a page?"
   ]
  },
  {
   "cell_type": "code",
   "execution_count": null,
   "id": "15255253-7c64-4014-a3c4-60a502d163e7",
   "metadata": {},
   "outputs": [],
   "source": [
    "page.rotate_clockwise()\n",
    "page.rotateCounterClockwise()"
   ]
  },
  {
   "cell_type": "markdown",
   "id": "342e27b4-a974-417d-acae-b9880549903e",
   "metadata": {},
   "source": [
    "6. What is the difference between a Run object and a Paragraph object?"
   ]
  },
  {
   "cell_type": "code",
   "execution_count": null,
   "id": "53df3919-0eb4-468b-83d1-cad0682df55c",
   "metadata": {},
   "outputs": [],
   "source": [
    "A Document object contains a list of Paragraph objects and each Paragraph object \n",
    "in turn contains a list of Run objects."
   ]
  },
  {
   "cell_type": "markdown",
   "id": "24cc03d8-2fe2-4f6b-a16d-5bf05febb111",
   "metadata": {},
   "source": [
    "7. How do you obtain a list of Paragraph objects for a Document object that’s stored in a variable named doc?"
   ]
  },
  {
   "cell_type": "code",
   "execution_count": 70,
   "id": "51f839a0-8ebd-4742-9def-868caed86bd5",
   "metadata": {},
   "outputs": [
    {
     "name": "stdout",
     "output_type": "stream",
     "text": [
      "Collecting python-docx\n",
      "  Downloading python-docx-0.8.11.tar.gz (5.6 MB)\n",
      "     ---------------------------------------- 5.6/5.6 MB 1.8 MB/s eta 0:00:00\n",
      "  Preparing metadata (setup.py): started\n",
      "  Preparing metadata (setup.py): finished with status 'done'\n",
      "Requirement already satisfied: lxml>=2.3.2 in c:\\users\\dell\\anaconda3\\lib\\site-packages (from python-docx) (4.9.1)\n",
      "Building wheels for collected packages: python-docx\n",
      "  Building wheel for python-docx (setup.py): started\n",
      "  Building wheel for python-docx (setup.py): finished with status 'done'\n",
      "  Created wheel for python-docx: filename=python_docx-0.8.11-py3-none-any.whl size=184519 sha256=274fd5f4d9609c59814df4f891e1ccc457aa309ed9f48478c3e29b0810c19fb7\n",
      "  Stored in directory: c:\\users\\dell\\appdata\\local\\pip\\cache\\wheels\\65\\e1\\9b\\0c38fe6cfe02a9fe31cb6b4efd90985f17354d7f77872f2def\n",
      "Successfully built python-docx\n",
      "Installing collected packages: python-docx\n",
      "Successfully installed python-docx-0.8.11\n",
      "Note: you may need to restart the kernel to use updated packages.\n"
     ]
    }
   ],
   "source": [
    "pip install python-docx"
   ]
  },
  {
   "cell_type": "code",
   "execution_count": 72,
   "id": "247e429d-156c-468b-be13-8a6db20f4a7b",
   "metadata": {},
   "outputs": [
    {
     "name": "stdout",
     "output_type": "stream",
     "text": [
      "This is a test file.\n"
     ]
    }
   ],
   "source": [
    "from docx import Document\n",
    "doc = Document(\"E:\\\\iNeuron\\\\first.docx\")\n",
    "for para in doc.paragraphs:\n",
    "    print(para.text)"
   ]
  },
  {
   "cell_type": "markdown",
   "id": "6c119147-8eae-41b6-b601-77af54ef2fd1",
   "metadata": {},
   "source": [
    "8. What type of object has bold, underline, italic, strike, and outline variables?"
   ]
  },
  {
   "cell_type": "markdown",
   "id": "3947233c-cada-4703-bd07-a7f803a23765",
   "metadata": {},
   "source": [
    "Run object"
   ]
  },
  {
   "cell_type": "markdown",
   "id": "df5ede91-fc36-49c0-9f1b-edf0402565fb",
   "metadata": {},
   "source": [
    "9. What is the difference between False, True, and None for the bold variable?"
   ]
  },
  {
   "cell_type": "code",
   "execution_count": null,
   "id": "345292bc-11eb-454d-871c-458eb3dde41f",
   "metadata": {},
   "outputs": [],
   "source": [
    "bold = True  ''' Means stle is set to Bold'''\n",
    "bold = False ''' Means stle is not set to Bold'''\n",
    "bold = None ''' Means no style is set'''"
   ]
  },
  {
   "cell_type": "markdown",
   "id": "c7ecc50e-2e07-487c-901a-6d6172de826f",
   "metadata": {},
   "source": [
    "10. How do you create a Document object for a new Word document?"
   ]
  },
  {
   "cell_type": "code",
   "execution_count": null,
   "id": "b995f499-4fb7-4663-9f65-bdd672e59bf7",
   "metadata": {},
   "outputs": [],
   "source": [
    "from docx import Document\n",
    "doc = Document(\"E:\\\\iNeuron\\\\first.docx\")"
   ]
  },
  {
   "cell_type": "markdown",
   "id": "5f5096d9-588c-4682-bf72-482701a0fa7d",
   "metadata": {},
   "source": [
    "11. How do you add a paragraph with the text 'Hello, there!' to a Document object stored in a variable named doc?"
   ]
  },
  {
   "cell_type": "code",
   "execution_count": 74,
   "id": "f7d746bf-f322-4eeb-ac6d-f0e386a66b2b",
   "metadata": {},
   "outputs": [],
   "source": [
    "from docx import Document\n",
    "doc = Document()\n",
    "doc.add_paragraph('Hello, there!')\n",
    "doc.save('hello.docx')"
   ]
  },
  {
   "cell_type": "markdown",
   "id": "583e1504-f125-45c8-bd65-f41e18716fc1",
   "metadata": {},
   "source": [
    "12. What integers represent the levels of headings available in Word documents?"
   ]
  },
  {
   "cell_type": "code",
   "execution_count": null,
   "id": "cf4825b8-cff7-4413-9eb4-e221a5e9c5de",
   "metadata": {},
   "outputs": [],
   "source": [
    "add_heading(text=u'', level=1)\n",
    "The heading paragraph will contain text and have its paragraph style determined by level. \n",
    "If level is 0, the style is set to Title. If level is 1 (or omitted), \n",
    "Heading 1 is used. Otherwise the style is set to Heading {level}. \n",
    "Raises ValueError if level is outside the range 0-9."
   ]
  },
  {
   "cell_type": "code",
   "execution_count": null,
   "id": "5aa25214-784e-4e91-b1be-5f6c432cf24e",
   "metadata": {},
   "outputs": [],
   "source": []
  }
 ],
 "metadata": {
  "kernelspec": {
   "display_name": "Python 3 (ipykernel)",
   "language": "python",
   "name": "python3"
  },
  "language_info": {
   "codemirror_mode": {
    "name": "ipython",
    "version": 3
   },
   "file_extension": ".py",
   "mimetype": "text/x-python",
   "name": "python",
   "nbconvert_exporter": "python",
   "pygments_lexer": "ipython3",
   "version": "3.10.9"
  }
 },
 "nbformat": 4,
 "nbformat_minor": 5
}
