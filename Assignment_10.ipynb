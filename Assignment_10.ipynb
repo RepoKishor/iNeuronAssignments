{
 "cells": [
  {
   "cell_type": "code",
   "execution_count": 2,
   "id": "d4d309a0",
   "metadata": {},
   "outputs": [],
   "source": [
    "# How do you distinguish between shutil.copy() and shutil.copytree()?\n",
    "import os\n",
    "import shutil"
   ]
  },
  {
   "cell_type": "code",
   "execution_count": null,
   "id": "08f40d67",
   "metadata": {},
   "outputs": [],
   "source": [
    "os.getcwd()"
   ]
  },
  {
   "cell_type": "code",
   "execution_count": null,
   "id": "6f23bab1",
   "metadata": {},
   "outputs": [],
   "source": [
    "shutil.copy('C:\\\\Users\\\\Dell\\\\test.txt', 'E:\\\\iNeuron\\\\test.txt')"
   ]
  },
  {
   "cell_type": "code",
   "execution_count": null,
   "id": "ec8090a4",
   "metadata": {},
   "outputs": [],
   "source": [
    "pwd()"
   ]
  },
  {
   "cell_type": "code",
   "execution_count": null,
   "id": "80a9add9",
   "metadata": {},
   "outputs": [],
   "source": [
    "shutil.copy(\"C:\\\\Users\\\\Dell\\\\test.txt\", 'E:\\\\iNeuron\\\\test.txt')"
   ]
  },
  {
   "cell_type": "code",
   "execution_count": 3,
   "id": "14b6950f",
   "metadata": {},
   "outputs": [
    {
     "data": {
      "text/plain": [
       "'C:\\\\Users\\\\Dell'"
      ]
     },
     "execution_count": 3,
     "metadata": {},
     "output_type": "execute_result"
    }
   ],
   "source": [
    "pwd()"
   ]
  },
  {
   "cell_type": "code",
   "execution_count": null,
   "id": "1ae87abd",
   "metadata": {
    "scrolled": true
   },
   "outputs": [],
   "source": [
    "#copies the content of the source folder to the destination folder\n",
    "shutil.copytree('E:\\\\iNeuron', 'E:\\\\Python')"
   ]
  },
  {
   "cell_type": "code",
   "execution_count": 6,
   "id": "2a21d349",
   "metadata": {},
   "outputs": [],
   "source": [
    "#What function is used to rename files??\n",
    "os.chdir('E:\\\\iNeuron')"
   ]
  },
  {
   "cell_type": "code",
   "execution_count": null,
   "id": "5d8d4f6b",
   "metadata": {},
   "outputs": [],
   "source": [
    "os.rename('test.txt', 'test1.txt')"
   ]
  },
  {
   "cell_type": "code",
   "execution_count": null,
   "id": "785739d2",
   "metadata": {},
   "outputs": [],
   "source": [
    "os.listdir()"
   ]
  },
  {
   "cell_type": "code",
   "execution_count": 3,
   "id": "00e99129",
   "metadata": {},
   "outputs": [
    {
     "name": "stdout",
     "output_type": "stream",
     "text": [
      "first.docx\n",
      "test.txt\n",
      "['first.docx', 'test.txt']\n",
      "source : E:\\\\iNeuron\\\\first.docx\n",
      "destination: E:\\\\Python\\\\first.docx\n",
      "source : E:\\\\iNeuron\\\\test.txt\n",
      "destination: E:\\\\Python\\\\test.txt\n"
     ]
    }
   ],
   "source": [
    "# Create a programme that searches a folder tree for files with a certain file extension (such as .pdf or .jpg). \n",
    "#Copy these files from whatever location they are in to a new folder.\n",
    "\n",
    "destination_path = r\"E:\\\\Python\\\\\"\n",
    "source_path = r\"E:\\\\iNeuron\\\\\"\n",
    "\n",
    "files = []\n",
    "for file in os.listdir(source_path):\n",
    "    print(file)\n",
    "    if file.endswith('.txt') or file.endswith('.docx'):\n",
    "        files.append(file)\n",
    "print(files)\n",
    "\n",
    "for fname in files:\n",
    "    source = source_path + fname\n",
    "    destination = destination_path + fname\n",
    "    print(\"source :\", source)\n",
    "    print(\"destination:\", destination)\n",
    "    shutil.copy(source, destination)"
   ]
  },
  {
   "cell_type": "code",
   "execution_count": null,
   "id": "aa984ac0",
   "metadata": {},
   "outputs": [],
   "source": []
  },
  {
   "cell_type": "code",
   "execution_count": 4,
   "id": "8c6c088c",
   "metadata": {},
   "outputs": [
    {
     "data": {
      "text/plain": [
       "'E:\\\\Python\\\\test.txt'"
      ]
     },
     "execution_count": 4,
     "metadata": {},
     "output_type": "execute_result"
    }
   ],
   "source": [
    "#What is the difference between the delete functions in the send2trash and shutil modules?\n",
    "shutil.move(\"E:\\\\iNeuron\\\\test.txt\", \"E:\\\\Python\\\\test.txt\" )\n",
    "# this function removes the source file from the source folder once it is copied to the destination folder"
   ]
  },
  {
   "cell_type": "code",
   "execution_count": 9,
   "id": "231fcfd1",
   "metadata": {},
   "outputs": [],
   "source": [
    "# 4.ZipFile objects have a close() method just like File objects’ close() method. \n",
    "#What ZipFile method is equivalent to File objects’ open() method?\n",
    "\n",
    "# \n",
    "from zipfile import ZipFile\n",
    "ZipFile.open('test.zip', 'r')\n",
    "#mode should be 'r' to read a file already in the ZIP file, or 'w' to write to a file newly added to the archive."
   ]
  },
  {
   "cell_type": "code",
   "execution_count": 8,
   "id": "f4683a69",
   "metadata": {},
   "outputs": [
    {
     "data": {
      "text/plain": [
       "['first.docx', 'test.zip']"
      ]
     },
     "execution_count": 8,
     "metadata": {},
     "output_type": "execute_result"
    }
   ],
   "source": [
    "os.listdir()"
   ]
  },
  {
   "cell_type": "code",
   "execution_count": null,
   "id": "64125f83",
   "metadata": {},
   "outputs": [],
   "source": []
  }
 ],
 "metadata": {
  "kernelspec": {
   "display_name": "Python 3 (ipykernel)",
   "language": "python",
   "name": "python3"
  },
  "language_info": {
   "codemirror_mode": {
    "name": "ipython",
    "version": 3
   },
   "file_extension": ".py",
   "mimetype": "text/x-python",
   "name": "python",
   "nbconvert_exporter": "python",
   "pygments_lexer": "ipython3",
   "version": "3.9.12"
  }
 },
 "nbformat": 4,
 "nbformat_minor": 5
}
