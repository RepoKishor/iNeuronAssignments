{
 "cells": [
  {
   "cell_type": "code",
   "execution_count": 1,
   "id": "933c38e5",
   "metadata": {},
   "outputs": [
    {
     "data": {
      "text/plain": [
       "'C:\\\\Users\\\\Dell'"
      ]
     },
     "execution_count": 1,
     "metadata": {},
     "output_type": "execute_result"
    }
   ],
   "source": [
    "#To what does a relative path refer?\n",
    "#Relative path is relative to the present working directory\n",
    "#What does an absolute path start with your operating system?\n",
    "# Ans: c:\\\\\n",
    "#What do the functions os.getcwd() and os.chdir() do?\n",
    "import os\n",
    "os.getcwd()"
   ]
  },
  {
   "cell_type": "code",
   "execution_count": 2,
   "id": "cfa5c450",
   "metadata": {},
   "outputs": [],
   "source": [
    "os.chdir(\"E:\\\\iNeuron\")"
   ]
  },
  {
   "cell_type": "code",
   "execution_count": 3,
   "id": "c0298d98",
   "metadata": {},
   "outputs": [
    {
     "data": {
      "text/plain": [
       "'E:\\\\iNeuron'"
      ]
     },
     "execution_count": 3,
     "metadata": {},
     "output_type": "execute_result"
    }
   ],
   "source": [
    "os.getcwd()"
   ]
  },
  {
   "cell_type": "code",
   "execution_count": null,
   "id": "2c171814",
   "metadata": {},
   "outputs": [],
   "source": [
    "# What are the . and .. folders?\n",
    "# . is the current folder\n",
    "# .. is the folder one level higher\n"
   ]
  },
  {
   "cell_type": "code",
   "execution_count": null,
   "id": "7b66af34",
   "metadata": {},
   "outputs": [],
   "source": [
    "# In C:\\bacon\\eggs\\spam.txt, which part is the dir name, and which part is the base name?\n",
    "#  C:\\bacon\\eggs is the directory name and the spam.txt is the file name"
   ]
  },
  {
   "cell_type": "code",
   "execution_count": null,
   "id": "a43addb5",
   "metadata": {},
   "outputs": [],
   "source": [
    "# What are the three “mode” arguments that can be passed to the open() function?\n",
    "# r, w and a are the three arguments that can be passed for reading writing and appending to a file"
   ]
  },
  {
   "cell_type": "code",
   "execution_count": 14,
   "id": "7bc18f25",
   "metadata": {},
   "outputs": [
    {
     "data": {
      "text/plain": [
       "'This is a test file.'"
      ]
     },
     "execution_count": 14,
     "metadata": {},
     "output_type": "execute_result"
    }
   ],
   "source": [
    "f=open(\"test.txt\", 'r')\n",
    "f.read()"
   ]
  },
  {
   "cell_type": "code",
   "execution_count": 18,
   "id": "7be08bfe",
   "metadata": {},
   "outputs": [
    {
     "data": {
      "text/plain": [
       "6"
      ]
     },
     "execution_count": 18,
     "metadata": {},
     "output_type": "execute_result"
    }
   ],
   "source": [
    "f=open(\"test.txt\", 'w')\n",
    "f.write(\"Kishor\")"
   ]
  },
  {
   "cell_type": "code",
   "execution_count": 11,
   "id": "0e21d1dd",
   "metadata": {},
   "outputs": [],
   "source": [
    "f=open(\"test.txt\", 'a')"
   ]
  },
  {
   "cell_type": "code",
   "execution_count": null,
   "id": "d0999cc2",
   "metadata": {},
   "outputs": [],
   "source": [
    "#What happens if an existing file is opened in write mode?\n",
    "The existing file gets overwritten with the new content."
   ]
  },
  {
   "cell_type": "code",
   "execution_count": 20,
   "id": "3c26de1b",
   "metadata": {},
   "outputs": [
    {
     "data": {
      "text/plain": [
       "'Kishor \\nPython is a high-level, interpreted, general-purpose programming language. Its design philosophy emphasizes code readability with the use of significant indentation.\\n\\nPython is dynamically-typed and garbage-collected. It supports multiple programming paradigms, including structured (particularly procedural), object-oriented and functional programming. It is often described as a \"batteries included\" language due to its comprehensive standard library.'"
      ]
     },
     "execution_count": 20,
     "metadata": {},
     "output_type": "execute_result"
    }
   ],
   "source": [
    "#How do you tell the difference between read() and readlines()?\n",
    "f=open(\"test.txt\",'r')\n",
    "f.read()"
   ]
  },
  {
   "cell_type": "code",
   "execution_count": 21,
   "id": "bc6fe70b",
   "metadata": {},
   "outputs": [
    {
     "data": {
      "text/plain": [
       "0"
      ]
     },
     "execution_count": 21,
     "metadata": {},
     "output_type": "execute_result"
    }
   ],
   "source": [
    "f.seek(0)"
   ]
  },
  {
   "cell_type": "code",
   "execution_count": 22,
   "id": "baafad54",
   "metadata": {},
   "outputs": [
    {
     "data": {
      "text/plain": [
       "['Kishor \\n',\n",
       " 'Python is a high-level, interpreted, general-purpose programming language. Its design philosophy emphasizes code readability with the use of significant indentation.\\n',\n",
       " '\\n',\n",
       " 'Python is dynamically-typed and garbage-collected. It supports multiple programming paradigms, including structured (particularly procedural), object-oriented and functional programming. It is often described as a \"batteries included\" language due to its comprehensive standard library.']"
      ]
     },
     "execution_count": 22,
     "metadata": {},
     "output_type": "execute_result"
    }
   ],
   "source": [
    "# readlines() method returns a list of strings. Each line is returns as a string in the list of strings.\n",
    "f.readlines()"
   ]
  },
  {
   "cell_type": "code",
   "execution_count": null,
   "id": "ece067cd",
   "metadata": {},
   "outputs": [],
   "source": [
    "# What data structure does a shelf value resemble?\n",
    "Ans : dictionary"
   ]
  }
 ],
 "metadata": {
  "kernelspec": {
   "display_name": "Python 3 (ipykernel)",
   "language": "python",
   "name": "python3"
  },
  "language_info": {
   "codemirror_mode": {
    "name": "ipython",
    "version": 3
   },
   "file_extension": ".py",
   "mimetype": "text/x-python",
   "name": "python",
   "nbconvert_exporter": "python",
   "pygments_lexer": "ipython3",
   "version": "3.9.12"
  }
 },
 "nbformat": 4,
 "nbformat_minor": 5
}
