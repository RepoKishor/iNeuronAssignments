{
 "cells": [
  {
   "cell_type": "markdown",
   "id": "53252416-f5b7-4873-9e58-b9ede8ea359b",
   "metadata": {},
   "source": [
    "1. What is the result of the code, and why?"
   ]
  },
  {
   "cell_type": "code",
   "execution_count": 1,
   "id": "2c07ae84-7596-4532-9207-78896024d157",
   "metadata": {},
   "outputs": [
    {
     "name": "stdout",
     "output_type": "stream",
     "text": [
      "1 2 8\n"
     ]
    }
   ],
   "source": [
    "def func(a, b=6, c=8):\n",
    "    print(a, b, c)\n",
    "func(1, 2)"
   ]
  },
  {
   "cell_type": "code",
   "execution_count": null,
   "id": "dbcb89a2-454f-46eb-ab48-cf30b6076ecc",
   "metadata": {},
   "outputs": [],
   "source": [
    "# values of a, b are send but value for c is taken as the default value"
   ]
  },
  {
   "cell_type": "markdown",
   "id": "bc882fab-d16f-4d10-a229-d8dc88f8bd90",
   "metadata": {},
   "source": [
    "2. What is the result of this code, and why?"
   ]
  },
  {
   "cell_type": "code",
   "execution_count": 2,
   "id": "b94c6a7d-cc98-44a4-b1ba-75a4f3af2f6d",
   "metadata": {},
   "outputs": [
    {
     "name": "stdout",
     "output_type": "stream",
     "text": [
      "1 2 3\n"
     ]
    }
   ],
   "source": [
    "def func(a, b, c=5):\n",
    "    print(a, b, c)\n",
    "func(1, c=3, b=2)"
   ]
  },
  {
   "cell_type": "code",
   "execution_count": null,
   "id": "84254423-a19e-4904-8240-771eb1199319",
   "metadata": {},
   "outputs": [],
   "source": [
    "#it prints based on the order of the positional arguments."
   ]
  },
  {
   "cell_type": "markdown",
   "id": "bbf44244-4ffc-40d9-b2d6-c5f5cf620425",
   "metadata": {},
   "source": [
    "3. How about this code: what is its result, and why?"
   ]
  },
  {
   "cell_type": "code",
   "execution_count": 9,
   "id": "f26279fe-204f-448a-8b54-61ed567e898c",
   "metadata": {},
   "outputs": [
    {
     "name": "stdout",
     "output_type": "stream",
     "text": [
      "1 (2, 3)\n"
     ]
    }
   ],
   "source": [
    "def func(a, *pargs):\n",
    "    print(a, pargs)\n",
    "func(1, 2, 3)"
   ]
  },
  {
   "cell_type": "code",
   "execution_count": null,
   "id": "cd386a69-623c-4e6c-95d5-6a0cff6f8e17",
   "metadata": {},
   "outputs": [],
   "source": [
    "# *args returns a tuple"
   ]
  },
  {
   "cell_type": "markdown",
   "id": "ce2907fd-47ab-4ac2-821c-720a3155145f",
   "metadata": {},
   "source": [
    "4. What does this code print, and why?"
   ]
  },
  {
   "cell_type": "code",
   "execution_count": 10,
   "id": "46d255a2-ec11-4ef8-a875-f070a3fd852f",
   "metadata": {},
   "outputs": [
    {
     "name": "stdout",
     "output_type": "stream",
     "text": [
      "1 {'c': 3, 'b': 2}\n"
     ]
    }
   ],
   "source": [
    "def func(a, **kargs):\n",
    "    print(a, kargs)\n",
    "func(a=1, c=3, b=2)"
   ]
  },
  {
   "cell_type": "code",
   "execution_count": null,
   "id": "db417751-7286-4730-bef8-4b00e5073c8a",
   "metadata": {},
   "outputs": [],
   "source": [
    "#**kargs returns dictionary"
   ]
  },
  {
   "cell_type": "markdown",
   "id": "c305e090-11e0-4e33-8a8b-d0d950cfc0a5",
   "metadata": {},
   "source": [
    "5. What gets printed by this, and explain?"
   ]
  },
  {
   "cell_type": "code",
   "execution_count": 11,
   "id": "d7ac8110-a4c1-4cfa-a4d0-5c6f2069bf4c",
   "metadata": {},
   "outputs": [
    {
     "name": "stdout",
     "output_type": "stream",
     "text": [
      "1 5 6 5\n"
     ]
    }
   ],
   "source": [
    "def func(a, b, c=8, d=5): \n",
    "    print(a, b, c, d)\n",
    "func(1, *(5, 6))"
   ]
  },
  {
   "cell_type": "markdown",
   "id": "2afb45a0-ea93-48a5-bc46-6cc4e70e6150",
   "metadata": {},
   "source": [
    "6. what is the result of this, and explain?"
   ]
  },
  {
   "cell_type": "code",
   "execution_count": 12,
   "id": "290c2162-8827-4ff3-8536-8d659f705492",
   "metadata": {},
   "outputs": [
    {
     "data": {
      "text/plain": [
       "(1, ['x'], {'a': 'y'})"
      ]
     },
     "execution_count": 12,
     "metadata": {},
     "output_type": "execute_result"
    }
   ],
   "source": [
    "def func(a, b, c): \n",
    "    a = 2; b[0] = 'x'; c['a'] = 'y'\n",
    "    \n",
    "l=1; m=[1]; n={'a':0}\n",
    "func(l, m, n)\n",
    "l, m, n"
   ]
  },
  {
   "cell_type": "code",
   "execution_count": null,
   "id": "26887fdd-da55-426c-a35e-75c9e83c826e",
   "metadata": {},
   "outputs": [],
   "source": [
    "#pass be reference"
   ]
  }
 ],
 "metadata": {
  "kernelspec": {
   "display_name": "Python 3 (ipykernel)",
   "language": "python",
   "name": "python3"
  },
  "language_info": {
   "codemirror_mode": {
    "name": "ipython",
    "version": 3
   },
   "file_extension": ".py",
   "mimetype": "text/x-python",
   "name": "python",
   "nbconvert_exporter": "python",
   "pygments_lexer": "ipython3",
   "version": "3.10.9"
  }
 },
 "nbformat": 4,
 "nbformat_minor": 5
}
