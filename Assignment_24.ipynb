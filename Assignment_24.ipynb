{
 "cells": [
  {
   "cell_type": "markdown",
   "id": "461ad3a6-c8c0-4954-bf9e-58763b7fd4b0",
   "metadata": {},
   "source": [
    "1. What is the relationship between def statements and lambda expressions ?"
   ]
  },
  {
   "cell_type": "code",
   "execution_count": null,
   "id": "4d12459b-48ac-4ceb-b1dd-b280714bd010",
   "metadata": {},
   "outputs": [],
   "source": [
    "#def statements are multiple and returns a result explicitly. \n",
    "#Lambda expressions is a single expression and don't declare  any function name"
   ]
  },
  {
   "cell_type": "markdown",
   "id": "b6b8bba7-3f5e-43bd-ac33-0e230be06889",
   "metadata": {},
   "source": [
    "2. What is the benefit of lambda?"
   ]
  },
  {
   "cell_type": "code",
   "execution_count": null,
   "id": "2e81d6a4-d62b-4dc4-b316-68065ccacd08",
   "metadata": {},
   "outputs": [],
   "source": [
    "Fewer lines of code\n",
    "Fast execution"
   ]
  },
  {
   "cell_type": "markdown",
   "id": "7b045db9-46d8-4aae-a58a-ca1c115080ad",
   "metadata": {},
   "source": [
    "3. Compare and contrast map, filter, and reduce"
   ]
  },
  {
   "cell_type": "code",
   "execution_count": null,
   "id": "12e6bb33-741a-4666-aad9-ab935732fb7f",
   "metadata": {},
   "outputs": [],
   "source": [
    " Syntax of map is : map(function, iterable(s))\n",
    "# It iterates the iterable object and applied the function on each of the items\n",
    "# Filter only returns the list of elements for which the condition evaluates to be True.\n",
    " Syntax : map(function, iterable(s))\n",
    "#reduce(function, sequence[, initial])\n",
    "# calls the function for the first two elements in the sequence. \n",
    "#The returned result is used in another call to the same function"
   ]
  },
  {
   "cell_type": "code",
   "execution_count": 1,
   "id": "743a5859-94da-4452-840b-bb78ce93651f",
   "metadata": {},
   "outputs": [
    {
     "name": "stdout",
     "output_type": "stream",
     "text": [
      "False\n",
      "False\n",
      "True\n",
      "False\n",
      "False\n"
     ]
    }
   ],
   "source": [
    "animal = [\"Anteater\", \"Dog\", \"Elephant\", \"Giraffe\", \"Cat\"]\n",
    "mapObj = map(lambda s: s[0] == \"E\", animal)\n",
    "for i in mapObj:\n",
    "    print(i)"
   ]
  },
  {
   "cell_type": "code",
   "execution_count": 2,
   "id": "b3699128-a220-43d3-9c33-f19945250fa5",
   "metadata": {},
   "outputs": [
    {
     "name": "stdout",
     "output_type": "stream",
     "text": [
      "Elephant\n"
     ]
    }
   ],
   "source": [
    "animal = [\"Anteater\", \"Dog\", \"Elephant\", \"Giraffe\", \"Cat\"]\n",
    "filterObj = filter(lambda s: s[0] == \"E\", animal)\n",
    "\n",
    "for i in filterObj:\n",
    "    print(i)"
   ]
  },
  {
   "cell_type": "code",
   "execution_count": 3,
   "id": "7330a20e-9018-4aa9-8f1d-1fa0725439eb",
   "metadata": {},
   "outputs": [
    {
     "name": "stdout",
     "output_type": "stream",
     "text": [
      "10\n",
      "Initial value being provided: 15\n"
     ]
    }
   ],
   "source": [
    "from functools import reduce\n",
    "\n",
    "li = [1, 2, 3, 4]\n",
    "print(reduce(lambda x, y: x + y, li))\n",
    "print(\"Initial value being provided: \" + str(reduce(lambda x, y: x + y, li, 5)))"
   ]
  },
  {
   "cell_type": "markdown",
   "id": "9b09dc7d-8b00-42e1-839c-449b98ac43a5",
   "metadata": {},
   "source": [
    "4. What are function annotations, and how are they used?"
   ]
  },
  {
   "cell_type": "code",
   "execution_count": 4,
   "id": "d45bcde5-0444-41b8-84d3-5d2fb072232f",
   "metadata": {},
   "outputs": [
    {
     "name": "stdout",
     "output_type": "stream",
     "text": [
      "[1, 1, 2, 3, 5]\n"
     ]
    }
   ],
   "source": [
    "#Function annotations are some random expressions which are written with the functions, \n",
    "#and they are evaluated at compile time. They do not exist at run time, and there is no meaning of these expressions to python.\n",
    "#They are used and interpreted by a third party or external python libraries.\n",
    "\n",
    "# Annotation of the return type is done by the '->' operator.\n",
    "\n",
    "def fib(n:'int', output:'list'=[])-> 'list':\n",
    "    if n == 0:\n",
    "        return output\n",
    "    else:\n",
    "        if len(output)< 2:\n",
    "            output.append(1)\n",
    "            fib(n-1, output)\n",
    "        else:\n",
    "            last = output[-1]\n",
    "            second_last = output[-2]\n",
    "            output.append(last + second_last)\n",
    "            fib(n-1, output)\n",
    "        return output\n",
    "print(fib(5))"
   ]
  },
  {
   "cell_type": "markdown",
   "id": "e285e72a-4576-4db7-b66a-7ca5840d11b9",
   "metadata": {},
   "source": [
    "5. What are recursive functions, and how are they used?"
   ]
  },
  {
   "cell_type": "markdown",
   "id": "b44b6e92-84b3-4c15-9755-7c803e478a67",
   "metadata": {},
   "source": [
    "def fact(n):\n",
    "    if n == 1 :\n",
    "        return 1\n",
    "    else :\n",
    "        return n * fact(n-1)"
   ]
  },
  {
   "cell_type": "markdown",
   "id": "f04bfa46-504d-455e-a129-2aa4d72fa619",
   "metadata": {},
   "source": [
    "6. What are some general design guidelines for coding functions?"
   ]
  },
  {
   "cell_type": "markdown",
   "id": "e2bc5fe4-45f2-4497-9a43-7f44139f38cb",
   "metadata": {},
   "source": [
    "Use 4-space indentation and no tabs.\n",
    "Use docstrings\n",
    "Wrap lines that they don’t exceed 79 characters.\n",
    "Use of regular and updated comments is valuable to both the coders and users\n",
    "Use Python’s default UTF-8 or ASCII encodings and not any fancy encodings\n",
    "Naming Conventions"
   ]
  },
  {
   "cell_type": "markdown",
   "id": "6b904531-1800-4c27-a701-9db71f48f5b0",
   "metadata": {},
   "source": [
    "7. Name three or more ways that functions can communicate results to a caller"
   ]
  },
  {
   "cell_type": "markdown",
   "id": "f2a59a67-8ba1-4c54-8230-446c7d2fb7dd",
   "metadata": {},
   "source": [
    "Function can return single value\n",
    "Can return multiple values, tuple\n",
    "can return list,dictionary\n",
    "can return function object\n",
    "can return class object"
   ]
  }
 ],
 "metadata": {
  "kernelspec": {
   "display_name": "Python 3 (ipykernel)",
   "language": "python",
   "name": "python3"
  },
  "language_info": {
   "codemirror_mode": {
    "name": "ipython",
    "version": 3
   },
   "file_extension": ".py",
   "mimetype": "text/x-python",
   "name": "python",
   "nbconvert_exporter": "python",
   "pygments_lexer": "ipython3",
   "version": "3.10.9"
  }
 },
 "nbformat": 4,
 "nbformat_minor": 5
}
